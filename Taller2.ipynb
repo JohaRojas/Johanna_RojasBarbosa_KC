{
  "nbformat": 4,
  "nbformat_minor": 0,
  "metadata": {
    "colab": {
      "name": "Taller2.ipynb",
      "private_outputs": true,
      "provenance": [],
      "toc_visible": true,
      "mount_file_id": "11ceTmQcvy1DDqp2SEdL__9uDDX4Xxg1h",
      "authorship_tag": "ABX9TyNlA/jQzktyz42Uql0yALCJ",
      "include_colab_link": true
    },
    "kernelspec": {
      "name": "python3",
      "display_name": "Python 3"
    },
    "language_info": {
      "name": "python"
    }
  },
  "cells": [
    {
      "cell_type": "markdown",
      "metadata": {
        "id": "view-in-github",
        "colab_type": "text"
      },
      "source": [
        "<a href=\"https://colab.research.google.com/github/JohaRojas/Johanna_RojasBarbosa_KC/blob/main/Taller2.ipynb\" target=\"_parent\"><img src=\"https://colab.research.google.com/assets/colab-badge.svg\" alt=\"Open In Colab\"/></a>"
      ]
    },
    {
      "cell_type": "code",
      "metadata": {
        "id": "bRjdMsrUr0hd"
      },
      "source": [
        "'''1. Numeros palíndromos:\n",
        "Escriba una función que reciba un numero entero (positivo) o un String y entregue como \n",
        "respuesta si la entrada es o no un palíndromo'''\n",
        "def es_palindromo(cadena):\n",
        "    posicion_izquierda = 0\n",
        "    posicion_derecha = len(cadena) - 1\n",
        "\n",
        "    while posicion_derecha >= posicion_izquierda:\n",
        "       if not cadena[posicion_izquierda] == cadena[posicion_derecha]:\n",
        "           return False\n",
        "       posicion_derecha -= 1\n",
        "       posicion_izquierda += 1\n",
        "    return True\n",
        "\n",
        "print(es_palindromo('sometemos'))  \n",
        "print(es_palindromo('rosa'))\n",
        "print(es_palindromo('larutanatural'))\n",
        "print(es_palindromo('luzazul'))  \n",
        "print(es_palindromo('21812'))  \n",
        "print(es_palindromo('01012021')) \n"
      ],
      "execution_count": null,
      "outputs": []
    },
    {
      "cell_type": "code",
      "metadata": {
        "id": "c1NA4lGaysYR"
      },
      "source": [
        "'''2. Numeros primos:\n",
        "Escriba una función que reciba como entrada un número y determine si es o no un numero \n",
        "primo'''\n",
        "def es_primo(numero):\n",
        "    if numero == 1:\n",
        "        return False\n",
        "    elif numero == 2:\n",
        "        return True\n",
        "    else:\n",
        "        for i in range(2, numero):\n",
        "            if numero % i == 0:\n",
        "                return False\n",
        "\n",
        "            return True\n",
        "print(es_primo(195))\n",
        "print(es_primo(2))\n",
        "print(es_primo(100))\n",
        "print(es_primo(76))\n",
        "print(es_primo(97))\n",
        "\n",
        "        "
      ],
      "execution_count": null,
      "outputs": []
    },
    {
      "cell_type": "code",
      "metadata": {
        "id": "-MMflJHZ4HXP"
      },
      "source": [
        ""
      ],
      "execution_count": null,
      "outputs": []
    },
    {
      "cell_type": "code",
      "metadata": {
        "id": "mfPjUrtO4IDO"
      },
      "source": [
        "'''3. Numeros primos 2: \n",
        "Escriba una función que devuelva una lista de numeros primos con base a la cantidad que el \n",
        "usuario le solicite, Ejemplo si el usuario ingresa 3 debe retornar los 3 primeros numeros primos. '''\n",
        "def devolver_primo():\n",
        "    numero = 2\n",
        "\n",
        "    yield numero\n",
        "    while True:\n",
        "\n",
        "      t = numero \n",
        "      while True:\n",
        "          t += 1\n",
        "          c = 1\n",
        "          cd = 0\n",
        "\n",
        "          while c <= t:\n",
        "              if t % c == 0:\n",
        "                 cd += 1\n",
        "\n",
        "              if cd > 2:\n",
        "                  break\n",
        "              \n",
        "              c += 1\n",
        "\n",
        "          if cd == 2:\n",
        "            yield t\n",
        "\n",
        "d = devolver_primo()              \n",
        "primos = [next(d) for _ in range(7)]\n",
        "\n",
        "print(primos)\n"
      ],
      "execution_count": null,
      "outputs": []
    },
    {
      "cell_type": "code",
      "metadata": {
        "id": "2n4KXP7rJBMo"
      },
      "source": [
        "'''5.Máximo común divisor:\n",
        "Escriba una función que reciba dos numeros y retorne el cálculo de su máximo común divisor'''\n",
        " \n",
        "def mcd(m,j):\n",
        "  mcd = 1\n",
        "\n",
        "  if m % j == 0:\n",
        "      return j\n",
        "\n",
        "  for s in range(int(j/2), 0, -1):\n",
        "      if m % s == 0 and j % s == 0:\n",
        "        mcd = s\n",
        "        break\n",
        "\n",
        "  return\n",
        "\n",
        "print(mcd(8, 4))\n",
        "print(mcd(25, 5))\n",
        "print(mcd(81, 9))\n",
        "print(mcd(21, 3))\n"
      ],
      "execution_count": null,
      "outputs": []
    },
    {
      "cell_type": "code",
      "metadata": {
        "id": "kw_DkPetSNW4"
      },
      "source": [
        "'''6. Numeros romanos:\n",
        "Escriba una función que reciba un numero y retorne como resultado el numero romano de dicho \n",
        "número'''\n"
      ],
      "execution_count": null,
      "outputs": []
    },
    {
      "cell_type": "markdown",
      "metadata": {
        "id": "ZPRLjgjvSboY"
      },
      "source": [
        "# Nueva sección"
      ]
    },
    {
      "cell_type": "markdown",
      "metadata": {
        "id": "l0d231MhScT4"
      },
      "source": [
        "# Nueva sección"
      ]
    }
  ]
}