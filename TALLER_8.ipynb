{
  "nbformat": 4,
  "nbformat_minor": 0,
  "metadata": {
    "colab": {
      "name": "TALLER 8",
      "private_outputs": true,
      "provenance": [],
      "collapsed_sections": [],
      "authorship_tag": "ABX9TyO9/2AtWTORBsh+YP7f777q",
      "include_colab_link": true
    },
    "kernelspec": {
      "name": "python3",
      "display_name": "Python 3"
    },
    "language_info": {
      "name": "python"
    }
  },
  "cells": [
    {
      "cell_type": "markdown",
      "metadata": {
        "id": "view-in-github",
        "colab_type": "text"
      },
      "source": [
        "<a href=\"https://colab.research.google.com/github/JohaRojas/Johanna_RojasBarbosa_KC/blob/main/TALLER_8.ipynb\" target=\"_parent\"><img src=\"https://colab.research.google.com/assets/colab-badge.svg\" alt=\"Open In Colab\"/></a>"
      ]
    },
    {
      "cell_type": "markdown",
      "metadata": {
        "id": "byKuLUHNqQfH"
      },
      "source": [
        "**1.CONEXIÓN AL DRIVE**"
      ]
    },
    {
      "cell_type": "code",
      "metadata": {
        "id": "dDdbw5Ncd2Bz"
      },
      "source": [
        "#CARGAR DATOS\n",
        "from google.colab import drive\n",
        "import os\n",
        "# Establecer ruta de acceso en drive\n",
        "import os\n",
        "print(os.getcwd())\n",
        "os.chdir(\"/content/gdrive/My Drive\")"
      ],
      "execution_count": null,
      "outputs": []
    },
    {
      "cell_type": "code",
      "metadata": {
        "id": "kOAQGv9ed_Wl"
      },
      "source": [
        "%cd '/content/gdrive/MyDrive/KEYCODE/Semana 9/'"
      ],
      "execution_count": null,
      "outputs": []
    },
    {
      "cell_type": "markdown",
      "metadata": {
        "id": "KE-YKpWlqG2q"
      },
      "source": [
        "**2. EXPLORACIÓN DE DATOS**"
      ]
    },
    {
      "cell_type": "code",
      "metadata": {
        "id": "faZk0Z9UqFzb"
      },
      "source": [
        "import pandas                  as pd\n",
        "from   scipy import stats\n",
        "import numpy                   as np\n",
        "import matplotlib.pyplot       as plt\n",
        "import seaborn                 as sns\n",
        "import statsmodels.formula.api as sm\n",
        "from sklearn.linear_model import LinearRegression"
      ],
      "execution_count": null,
      "outputs": []
    },
    {
      "cell_type": "code",
      "metadata": {
        "id": "4WpcdTm6sxeT"
      },
      "source": [
        "data_cancer_1= pd.read_csv('Breast_cancer_1.csv',sep=',')\n",
        "data_cancer_1= data_cancer_1.drop(columns=[])"
      ],
      "execution_count": null,
      "outputs": []
    },
    {
      "cell_type": "code",
      "metadata": {
        "id": "Qk2ZYTiDwZKY"
      },
      "source": [
        "data_cancer_1.head()"
      ],
      "execution_count": null,
      "outputs": []
    },
    {
      "cell_type": "code",
      "metadata": {
        "id": "JhrOxghIxUOg"
      },
      "source": [
        "data_cancer_1.shape"
      ],
      "execution_count": null,
      "outputs": []
    },
    {
      "cell_type": "code",
      "metadata": {
        "id": "piJlpuF4xreQ"
      },
      "source": [
        "data_cancer_1.columns"
      ],
      "execution_count": null,
      "outputs": []
    },
    {
      "cell_type": "code",
      "metadata": {
        "id": "G8qEZvuBx8O4"
      },
      "source": [
        "from matplotlib import pyplot as plt\n",
        "plt.figure(figsize=(10,10))\n",
        "plt.subplot(221, frameon=False,)\n",
        "\n",
        "plt.scatter(data_cancer_1['diagnosis'],data_cancer_1['area_mean'],label=\"area_mean\", color=\"green\")\n",
        "plt.legend()\n",
        "\n",
        "plt.subplot(222, frameon=False)\n",
        "plt.scatter(data_cancer_1['diagnosis'],data_cancer_1['radius_mean'],label=\"radius_mean\", color=\"red\")\n",
        "plt.legend()\n",
        "\n",
        "plt.subplot(223, frameon=False,)\n",
        "plt.scatter(data_cancer_1['diagnosis'],data_cancer_1['fractal_dimension_se'],label=\"fractal_dimension_se\", color=\"blue\")\n",
        "plt.legend()\n",
        "\n",
        "plt.subplot(224, frameon=False)\n",
        "plt.scatter(data_cancer_1['diagnosis'],data_cancer_1['perimeter_mean'],label=\"perimeter_mean\", color=\"orange\")\n",
        "plt.legend()\n"
      ],
      "execution_count": null,
      "outputs": []
    },
    {
      "cell_type": "markdown",
      "metadata": {
        "id": "fov3TNmV0jY8"
      },
      "source": [
        "**3. DEFINIR LA MATRIZ DE DISEÑO (X) Y EL VECTOR RESPUESTA (Y)**"
      ]
    },
    {
      "cell_type": "code",
      "metadata": {
        "id": "zSInELrf0pGS"
      },
      "source": [
        "X = data_cancer_1.iloc[:, :-1].values # toma todas las columnas, excepto la ultima\n",
        "y = data_cancer_1.iloc[:, -1].values # toma solo la ultima columna\n",
        "print(X.shape)\n",
        "print(y.shape)\n"
      ],
      "execution_count": null,
      "outputs": []
    },
    {
      "cell_type": "code",
      "metadata": {
        "id": "pSS-ksTD1hZl"
      },
      "source": [
        "y_1= np.transpose(np.array([y])) #convertir a vector vertical\n",
        "y_1.shape"
      ],
      "execution_count": null,
      "outputs": []
    },
    {
      "cell_type": "markdown",
      "metadata": {
        "id": "ytX6-lvI1udK"
      },
      "source": [
        "**5. DEFINIR MUESTRAS DE ENTRENAMIENTO Y TEST**"
      ]
    },
    {
      "cell_type": "code",
      "metadata": {
        "id": "irmqo_Ic1xfZ"
      },
      "source": [
        "from sklearn.model_selection import train_test_split\n",
        "X_train, X_test, y_train, y_test = train_test_split(x, y, test_size=0.3, random_state=42,shuffle=True)"
      ],
      "execution_count": null,
      "outputs": []
    },
    {
      "cell_type": "code",
      "metadata": {
        "id": "9pfDY3BP2eMm"
      },
      "source": [
        "print('Train')\n",
        "print(X_train.shape)\n",
        "print(y_train.shape)\n",
        "print('-------------')\n",
        "print('Test')\n",
        "print(X_test.shape)\n",
        "print(y_test.shape)\n"
      ],
      "execution_count": null,
      "outputs": []
    },
    {
      "cell_type": "markdown",
      "metadata": {
        "id": "xY-UlbYl2kkx"
      },
      "source": [
        "**6. ENTRENAR EL MODELO**"
      ]
    },
    {
      "cell_type": "code",
      "metadata": {
        "id": "GRFX7g_y2vMy"
      },
      "source": [
        "from sklearn.linear_model import LinearRegression\n",
        "regressor = LinearRegression()"
      ],
      "execution_count": null,
      "outputs": []
    },
    {
      "cell_type": "markdown",
      "metadata": {
        "id": "8iy6ECaE3nBb"
      },
      "source": [
        "**7. ANALISIS DE COEFICIENTES**"
      ]
    },
    {
      "cell_type": "code",
      "metadata": {
        "id": "1bCfGKkz4Hne"
      },
      "source": [
        "print(regressor.intercept_)\n",
        "print(regressor.coef_)\n",
        "regressor.coef_[0]"
      ],
      "execution_count": null,
      "outputs": []
    },
    {
      "cell_type": "markdown",
      "metadata": {
        "id": "997D_w6T6xQt"
      },
      "source": [
        "**8. DESNORMALIZACION**"
      ]
    },
    {
      "cell_type": "code",
      "metadata": {
        "id": "UqWkM9A_6Vz_"
      },
      "source": [
        "data_cancer_1_x= data_cancer_1.drop(columns=['diagnosis'])\n",
        "data_cancer_1_x.columns\n"
      ],
      "execution_count": null,
      "outputs": []
    },
    {
      "cell_type": "code",
      "metadata": {
        "id": "Erl3rFjj62c1"
      },
      "source": [
        "np.mean(data_cancer_1_x,axis=0)"
      ],
      "execution_count": null,
      "outputs": []
    },
    {
      "cell_type": "code",
      "metadata": {
        "id": "5MOHurWH6_It"
      },
      "source": [
        "np.std(data_cancer_1_x,axis=0)"
      ],
      "execution_count": null,
      "outputs": []
    }
  ]
}