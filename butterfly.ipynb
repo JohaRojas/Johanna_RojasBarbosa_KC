{
  "nbformat": 4,
  "nbformat_minor": 0,
  "metadata": {
    "colab": {
      "name": "butterfly.ipynb",
      "private_outputs": true,
      "provenance": [],
      "collapsed_sections": [],
      "authorship_tag": "ABX9TyNcxR8dpmQ0Ev4AcZsOY5nh",
      "include_colab_link": true
    },
    "kernelspec": {
      "name": "python3",
      "display_name": "Python 3"
    },
    "language_info": {
      "name": "python"
    }
  },
  "cells": [
    {
      "cell_type": "markdown",
      "metadata": {
        "id": "view-in-github",
        "colab_type": "text"
      },
      "source": [
        "<a href=\"https://colab.research.google.com/github/JohaRojas/Johanna_RojasBarbosa_KC/blob/main/butterfly.ipynb\" target=\"_parent\"><img src=\"https://colab.research.google.com/assets/colab-badge.svg\" alt=\"Open In Colab\"/></a>"
      ]
    },
    {
      "cell_type": "code",
      "metadata": {
        "id": "W2n_4tcuPnQ0"
      },
      "source": [
        "from google.colab import drive\n",
        "import os\n",
        "drive.mount('/content/gdrive')"
      ],
      "execution_count": null,
      "outputs": []
    },
    {
      "cell_type": "code",
      "metadata": {
        "id": "0dT8m89YQCJa"
      },
      "source": [
        "%cd '/content/gdrive/MyDrive/mariposas'"
      ],
      "execution_count": null,
      "outputs": []
    },
    {
      "cell_type": "code",
      "metadata": {
        "id": "zSTuzc02QJhB"
      },
      "source": [
        "import math                      \n",
        "import matplotlib.pyplot as plt  \n",
        "import scipy                     \n",
        "import cv2                       \n",
        "import numpy as np              \n",
        "import glob                      \n",
        "import os                        \n",
        "import pandas as pd              \n",
        "import tensorflow as tf       \n",
        "import itertools\n",
        "import random\n",
        "from random import shuffle      \n",
        "from tqdm import tqdm            \n",
        "from PIL import Image\n",
        "from scipy import ndimage\n",
        "from pathlib import Path\n",
        "from sklearn.metrics import classification_report, confusion_matrix\n",
        "from sklearn import metrics\n",
        "np.random.seed(1)\n",
        "%matplotlib inline"
      ],
      "execution_count": null,
      "outputs": []
    },
    {
      "cell_type": "code",
      "metadata": {
        "id": "_G84iS4BQOap"
      },
      "source": [
        "from keras.preprocessing.image import ImageDataGenerator\n",
        "from keras.models import Sequential\n",
        "from keras.layers import Conv2D, MaxPooling2D, Activation, Dropout, Flatten, Dense\n",
        "from keras.callbacks import ModelCheckpoint, EarlyStopping"
      ],
      "execution_count": null,
      "outputs": []
    },
    {
      "cell_type": "code",
      "metadata": {
        "id": "sQvVLDsKQTdy"
      },
      "source": [
        "train_dir = Path('/content/drive/MyDrive/mariposas/butterflies/train/')\n",
        "test_dir = Path('/content/drive/MyDrive/mariposas/butterflies/valid/')\n",
        "test_dir = Path('/content/drive/MyDrive/mariposas/butterflies/test/')"
      ],
      "execution_count": null,
      "outputs": []
    },
    {
      "cell_type": "code",
      "metadata": {
        "id": "xL5e9ZwpQW4S"
      },
      "source": [
        "#label info\n",
        "cols = ['Label','Name', 'Train Images', 'Validation Images','Test Images']\n",
        "labels = pd.read_csv(\"/content/gdrive/MyDrive/mariposas/butterflies_rev2/class_dict.csv\", names=cols, skiprows=1)\n",
        "labels"
      ],
      "execution_count": null,
      "outputs": []
    },
    {
      "cell_type": "code",
      "metadata": {
        "id": "gnKi_ia0RfSZ"
      },
      "source": [
        "#Species\n",
        "labels = labels['Name']\n",
        "labels"
      ],
      "execution_count": null,
      "outputs": []
    },
    {
      "cell_type": "code",
      "metadata": {
        "id": "L1WZ9_Fhs1oH"
      },
      "source": [
        "#img del folder validation\n",
        "plt.figure(figsize=(20, 8))\n",
        "plt.imshow(plt.imread(\"/content/gdrive/MyDrive/mariposas/32.jpg\"))\n",
        "plt.xlabel(class_name)"
      ],
      "execution_count": null,
      "outputs": []
    },
    {
      "cell_type": "code",
      "metadata": {
        "id": "n8QRjiGj4JSN"
      },
      "source": [
        "#img del folder train\n",
        "plt.figure(figsize=(20, 8))\n",
        "plt.imshow(plt.imread(\"/content/gdrive/MyDrive/mariposas/butterflies_rev2/train/an 88/90.jpg\"))\n",
        "plt.xlabel(class_name)"
      ],
      "execution_count": null,
      "outputs": []
    },
    {
      "cell_type": "code",
      "metadata": {
        "id": "0hXRn1YW4Yfk"
      },
      "source": [
        "#img del folder test\n",
        "plt.figure(figsize=(20, 8))\n",
        "plt.imshow(plt.imread(\"/content/gdrive/MyDrive/mariposas/butterflies_rev2/test/large marble/5.jpg\"))\n",
        "plt.xlabel(class_name)"
      ],
      "execution_count": null,
      "outputs": []
    },
    {
      "cell_type": "code",
      "metadata": {
        "id": "vFIxAqPM4nCU"
      },
      "source": [
        "def image_show(num_image,label):\n",
        "    for i in range(num_image):\n",
        "        imgdir = Path('/content/gdrive/MyDrive/mariposas/butterflies_rev2/train/' + label)\n",
        "        #print(imgdir)\n",
        "        imgfile = random.choice(os.listdir(imgdir))\n",
        "        #print(imgfile)\n",
        "        img = cv2.imread('/content/gdrive/MyDrive/mariposas/butterflies_rev2/train/'+ label +'/'+ imgfile)\n",
        "       # print(img.shape)\n",
        "        #print(label)\n",
        "        plt.figure(i)\n",
        "        plt.imshow(img)\n",
        "        plt.title(imgfile)\n",
        "    plt.show()"
      ],
      "execution_count": null,
      "outputs": []
    },
    {
      "cell_type": "code",
      "metadata": {
        "id": "1sK7ii9H5QxD"
      },
      "source": [
        "LR = 1e-3\n",
        "height=150\n",
        "width=150\n",
        "channels=3\n",
        "seed=1337\n",
        "batch_size = 64\n",
        "num_classes = 10\n",
        "epochs = 200\n",
        "data_augmentation = True\n",
        "num_predictions = 20"
      ],
      "execution_count": null,
      "outputs": []
    },
    {
      "cell_type": "code",
      "metadata": {
        "id": "multFj8S5lbb"
      },
      "source": [
        "def plot_confusion_matrix(cm, target_names,title='Confusion matrix',cmap=None,normalize=False):\n",
        "    accuracy = np.trace(cm) / float(np.sum(cm))\n",
        "    misclass = 1 - accuracy\n",
        "    if cmap is None:\n",
        "        cmap = plt.get_cmap('Blues')\n",
        "    plt.figure(figsize=(10, 8))\n",
        "    plt.imshow(cm, interpolation='nearest', cmap=cmap)\n",
        "    plt.title(title)\n",
        "    plt.colorbar()\n",
        "\n",
        "    if target_names is not None:\n",
        "        tick_marks = np.arange(len(target_names))\n",
        "        plt.xticks(tick_marks, target_names, rotation=45)\n",
        "\n",
        "        plt.yticks(tick_marks, target_names)\n",
        "\n",
        "    if normalize:\n",
        "        cm = cm.astype('float32') / cm.sum(axis=1)\n",
        "        cm = np.round(cm,2)\n",
        "        \n",
        "\n",
        "    thresh = cm.max() / 1.5 if normalize else cm.max() / 2\n",
        "    for i, j in itertools.product(range(cm.shape[0]), range(cm.shape[1])):\n",
        "        if normalize:\n",
        "            plt.text(j, i, \"{:0.2f}\".format(cm[i, j]),\n",
        "                     horizontalalignment=\"center\",\n",
        "                     color=\"white\" if cm[i, j] > thresh else \"black\")\n",
        "        else:\n",
        "            plt.text(j, i, \"{:,}\".format(cm[i, j]),\n",
        "                     horizontalalignment=\"center\",\n",
        "                     color=\"white\" if cm[i, j] > thresh else \"black\")\n",
        "\n",
        "    plt.tight_layout()\n",
        "    plt.ylabel('True label')\n",
        "    plt.xlabel(\"Predicted label\\naccuracy={:0.4f}\\n misclass={:0.4f}\".format(accuracy, misclass))\n",
        "    plt.show()"
      ],
      "execution_count": null,
      "outputs": []
    },
    {
      "cell_type": "code",
      "metadata": {
        "id": "u1hWy9An6ybC"
      },
      "source": [
        "fpath=r'/content/gdrive/MyDrive/mariposas/butterflies_rev2/test/metalmark/1.jpg'\n",
        "img = plt.imread(fpath)\n",
        "print (img.shape)\n",
        "plt.imshow(img)"
      ],
      "execution_count": null,
      "outputs": []
    },
    {
      "cell_type": "code",
      "metadata": {
        "id": "c9ijZNpdBi-Q"
      },
      "source": [
        "sdir=r'../content/gdrive/MyDrive/mariposas/butterflies_rev2'\n",
        "for category in ['train', 'test', 'valid']:\n",
        "    catpath=os.path.join(sdir, category)\n",
        "    classlist=os.listdir(catpath)    \n",
        "    filepaths=[]\n",
        "    labels=[]    \n",
        "    for klass in classlist:\n",
        "        classpath=os.path.join(catpath,klass)        \n",
        "        flist=os.listdir(classpath)        \n",
        "        for f in flist:\n",
        "            fpath=os.path.join(classpath,f)        \n",
        "            filepaths.append(fpath)\n",
        "            labels.append(klass) \n",
        "    Fseries=pd.Series(filepaths, name='filepaths')\n",
        "    Lseries=pd.Series(labels, name='labels')\n",
        "    if category == 'train':\n",
        "        train_df=pd.concat([Fseries, Lseries], axis=1) \n",
        "    elif category == 'test':\n",
        "        test_df=pd.concat([Fseries, Lseries], axis=1)\n",
        "    else:\n",
        "        valid_df=pd.concat([Fseries, Lseries], axis=1)  \n",
        "print('train_df length: ', len(train_df), '  test_df length: ',len(test_df), '  valid_df length: ', len(valid_df))\n",
        "balance=list(train_df['labels'].value_counts())\n",
        "print (balance)"
      ],
      "execution_count": null,
      "outputs": []
    },
    {
      "cell_type": "code",
      "metadata": {
        "id": "YaZZpx0aBkuo"
      },
      "source": [
        "import shutil, random, os\n",
        "dirpath = './'\n",
        "destDirectory = './test'\n",
        "\n",
        "filenames = random.sample(os.listdir(dirpath),1)\n",
        "for fname in filenames:\n",
        "    srcpath = os.path.join(dirpath, fname)\n",
        "    shutil.copyfile(srcpath, destDirectory)\n",
        "filenames = [ x for x in filenames if x is not '__notebook_source__.ipynb' ]\n",
        "filenames"
      ],
      "execution_count": null,
      "outputs": []
    },
    {
      "cell_type": "code",
      "metadata": {
        "id": "nynJiQYrBsnX"
      },
      "source": [
        "from PIL import Image\n",
        "import pandas as pd\n",
        "import matplotlib.pyplot as plt\n",
        "import matplotlib.image as mpimg\n",
        "for a in filenames:\n",
        "    img = mpimg.imread('./{}'.format(a))\n",
        "    imgplot = plt.imshow(img)\n",
        "    plt.axis('off')\n",
        "    plt.show()\n",
        "    img = Image.open('./{}'.format(a))\n",
        "    result = model.predict(img)\n",
        "    # Print top prediction\n",
        "    print('Model Prediction : {}'.format(result.prediction))\n",
        "    # Print all classes\n",
        "    for label, confidence in result.labels:\n",
        "        print(f\"{label}: {round(confidence*100,2)}%\")"
      ],
      "execution_count": null,
      "outputs": []
    },
    {
      "cell_type": "code",
      "metadata": {
        "id": "H1liMSJ5MYOx"
      },
      "source": [
        "data_butterfly= pd.read_csv('/content/gdrive/MyDrive/mariposas/butterflies_rev2/class_dict.csv',sep=',')\n",
        "data_butterfly= data_butterfly.drop(columns=[])"
      ],
      "execution_count": null,
      "outputs": []
    },
    {
      "cell_type": "code",
      "metadata": {
        "id": "y4irPvKlOfEX"
      },
      "source": [
        "data_butterfly.shape"
      ],
      "execution_count": null,
      "outputs": []
    },
    {
      "cell_type": "code",
      "metadata": {
        "id": "UXKQ_TZvOtM1"
      },
      "source": [
        "data_butterfly.columns"
      ],
      "execution_count": null,
      "outputs": []
    },
    {
      "cell_type": "code",
      "metadata": {
        "id": "SPyDLsXHOxUm"
      },
      "source": [
        "from matplotlib import pyplot as plt\n",
        "plt.figure(figsize=(10,10))\n",
        "plt.subplot(221, frameon=True,)\n",
        "\n",
        "\n",
        "\n",
        "plt.subplot(222, frameon=True)\n",
        "plt.scatter(data_butterfly['class_index'],data_butterfly['height'],label=\"height\", color=\"red\")\n",
        "plt.legend()\n",
        "\n",
        "plt.subplot(223, frameon=True,)\n",
        "plt.scatter(data_butterfly['class_index'],data_butterfly['width'],label=\"width\", color=\"blue\")\n",
        "plt.legend()\n",
        "\n",
        "plt.subplot(224, frameon=True)\n",
        "plt.scatter(data_butterfly['class_index'],data_butterfly['scale by'],label=\"scale by\", color=\"orange\")\n",
        "plt.legend()\n"
      ],
      "execution_count": null,
      "outputs": []
    },
    {
      "cell_type": "code",
      "metadata": {
        "id": "P5ubRy4GQlDL"
      },
      "source": [
        "X = data_butterfly.iloc[:, :-1].values # toma todas las columnas, excepto la ultima\n",
        "y = data_butterfly.iloc[:, -1].values # toma solo la ultima columna\n",
        "print(X.shape)\n",
        "print(y.shape)"
      ],
      "execution_count": null,
      "outputs": []
    },
    {
      "cell_type": "code",
      "metadata": {
        "id": "HYEKbbKaQq42"
      },
      "source": [
        "y_1= np.transpose(np.array([y])) #convertir a vector vertical\n",
        "y_1.shape"
      ],
      "execution_count": null,
      "outputs": []
    },
    {
      "cell_type": "code",
      "metadata": {
        "id": "MR0qRb52RIfQ"
      },
      "source": [
        "from sklearn.linear_model import LinearRegression\n",
        "regressor = LinearRegression()"
      ],
      "execution_count": null,
      "outputs": []
    },
    {
      "cell_type": "code",
      "metadata": {
        "id": "UdZ0eg85RQb6"
      },
      "source": [
        "data_butterfly_x= data_butterfly.drop(columns=['class_index'])\n",
        "data_butterfly_x.columns\n"
      ],
      "execution_count": null,
      "outputs": []
    },
    {
      "cell_type": "code",
      "metadata": {
        "id": "hwoXLjt2RdcS"
      },
      "source": [
        "np.mean(data_butterfly_x,axis=0)"
      ],
      "execution_count": null,
      "outputs": []
    },
    {
      "cell_type": "code",
      "metadata": {
        "id": "K41XDORDRi0q"
      },
      "source": [
        "np.std(data_butterfly_x,axis=0)"
      ],
      "execution_count": null,
      "outputs": []
    }
  ]
}