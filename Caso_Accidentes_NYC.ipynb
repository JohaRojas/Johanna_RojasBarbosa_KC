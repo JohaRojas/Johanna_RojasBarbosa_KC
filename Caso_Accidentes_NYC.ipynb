{
  "nbformat": 4,
  "nbformat_minor": 0,
  "metadata": {
    "celltoolbar": "Raw Cell Format",
    "kernelspec": {
      "display_name": "Python 3",
      "language": "python",
      "name": "python3"
    },
    "language_info": {
      "codemirror_mode": {
        "name": "ipython",
        "version": 3
      },
      "file_extension": ".py",
      "mimetype": "text/x-python",
      "name": "python",
      "nbconvert_exporter": "python",
      "pygments_lexer": "ipython3",
      "version": "3.7.10"
    },
    "colab": {
      "name": "Caso_Accidentes_NYC.ipynb",
      "provenance": [],
      "collapsed_sections": [
        "85yBPmzylTsA",
        "kymtt3uclTsH",
        "V0-V81IClTsH"
      ],
      "include_colab_link": true
    }
  },
  "cells": [
    {
      "cell_type": "markdown",
      "metadata": {
        "id": "view-in-github",
        "colab_type": "text"
      },
      "source": [
        "<a href=\"https://colab.research.google.com/github/JohaRojas/Johanna_RojasBarbosa_KC/blob/main/Caso_Accidentes_NYC.ipynb\" target=\"_parent\"><img src=\"https://colab.research.google.com/assets/colab-badge.svg\" alt=\"Open In Colab\"/></a>"
      ]
    },
    {
      "cell_type": "markdown",
      "metadata": {
        "id": "D5yLPBQjlTrt"
      },
      "source": [
        "# ¿Cómo podemos controlar el creciente número de accidentes en Nueva York?"
      ]
    },
    {
      "cell_type": "code",
      "metadata": {
        "id": "5GUgWONhlTrx"
      },
      "source": [
        "import json\n",
        "import requests\n",
        "from bs4 import BeautifulSoup\n",
        "import pandas as pd\n",
        "import matplotlib.pyplot as plt\n",
        "import seaborn as sns\n",
        "import numpy"
      ],
      "execution_count": 25,
      "outputs": []
    },
    {
      "cell_type": "code",
      "metadata": {
        "colab": {
          "base_uri": "https://localhost:8080/"
        },
        "id": "OWvfWjulll28",
        "outputId": "770b75e8-9d10-46e7-b8a5-574cfeb08d33"
      },
      "source": [
        "from google.colab import drive\n",
        "import os\n",
        "drive.mount('/content/gdrive')"
      ],
      "execution_count": 26,
      "outputs": [
        {
          "output_type": "stream",
          "name": "stdout",
          "text": [
            "Drive already mounted at /content/gdrive; to attempt to forcibly remount, call drive.mount(\"/content/gdrive\", force_remount=True).\n"
          ]
        }
      ]
    },
    {
      "cell_type": "markdown",
      "metadata": {
        "id": "v3SO_zoalTrz"
      },
      "source": [
        "## Introduccion"
      ]
    },
    {
      "cell_type": "markdown",
      "metadata": {
        "id": "EQSvN3XBlTr0"
      },
      "source": [
        "**Contexto empresarial.** La ciudad de Nueva York ha experimentado un aumento en el número de accidentes en las carreteras de la ciudad. Quieren saber si el número de accidentes ha aumentado en las últimas semanas. Para todos los accidentes reportados, han recopilado detalles para cada accidente y han estado manteniendo registros durante el último año y medio (desde enero de 2018 hasta agosto de 2019).\n",
        "\n",
        "La ciudad te ha contratado para que construyas visualizaciones que les ayuden a identificar patrones en accidentes, lo que les ayudaría a tomar acciones preventivas para reducir la cantidad de accidentes en el futuro. Tienen ciertos parámetros como municipio, hora del día, motivo del accidente, etc. De los que se preocupan y de los que les gustaría obtener información específica."
      ]
    },
    {
      "cell_type": "markdown",
      "metadata": {
        "id": "r5bx28F-lTr0"
      },
      "source": [
        "**Problema comercial.** Su tarea es formatear los datos proporcionados y proporcionar visualizaciones que respondan las preguntas específicas que tiene el cliente, que se mencionan a continuación."
      ]
    },
    {
      "cell_type": "markdown",
      "metadata": {
        "id": "_AVKwSfvlTr1"
      },
      "source": [
        "**Contexto analítico.** Se le proporciona un archivo CSV (almacenado en la carpeta ```datos``` ya creada) que contiene detalles sobre cada accidente, como fecha, hora, ubicación del accidente, motivo del accidente, tipos de vehículos involucrados, recuento de lesiones y muertes, etc. El delimitador en el archivo CSV dado es `;` en lugar del predeterminado `,`. Realizará las siguientes tareas con los datos:\n",
        "\n",
        "1. Extraiga datos adicionales del municipio almacenados en un archivo JSON\n",
        "2. Leer, transformar y preparar datos para su visualización\n",
        "3. Realizar análisis y construir visualizaciones de los datos para identificar patrones en el conjunto de datos.\n",
        "        \n",
        "El cliente tiene un conjunto específico de preguntas a las que le gustaría obtener respuestas. Deberá proporcionar visualizaciones para acompañar estos:\n",
        "\n",
        "1. ¿Cómo ha fluctuado el número de accidentes durante el último año y medio? ¿Han aumentado con el tiempo?\n",
        "2. Para un día en particular, ¿durante qué horas es más probable que ocurran accidentes?\n",
        "3. ¿Hay más accidentes entre semana que durante los fines de semana?\n",
        "4. ¿Cuál es la proporción de recuento de accidentes por área por municipio? ¿Qué distritos tienen un número desproporcionadamente grande de accidentes para su tamaño?\n",
        "5. Para cada municipio, ¿durante qué horas es más probable que ocurran accidentes?\n",
        "6. ¿Cuáles son las 5 principales causas de accidentes en la ciudad?\n",
        "7. ¿Qué tipos de vehículos están más involucrados en accidentes por municipio?\n",
        "8. ¿Qué tipos de vehículos están más involucrados en las muertes?"
      ]
    },
    {
      "cell_type": "markdown",
      "metadata": {
        "id": "IvXOJv2ilTr2"
      },
      "source": [
        "## Obteniendo los datos relevantes"
      ]
    },
    {
      "cell_type": "markdown",
      "metadata": {
        "id": "xR57lGSJlTr2"
      },
      "source": [
        "El cliente ha solicitado un análisis de la relación accidentes-área de los distritos. Los datos del municipio se almacenan en un archivo JSON en la carpeta ```datos```."
      ]
    },
    {
      "cell_type": "markdown",
      "metadata": {
        "id": "4DxE2dfmlTr3"
      },
      "source": [
        "### Pregunta \n",
        "\n",
        "Utilice la función ```json.load()``` para cargar el archivo ```borough_data.json``` como diccionario."
      ]
    },
    {
      "cell_type": "markdown",
      "metadata": {
        "id": "RZX0zOSKlTr4"
      },
      "source": [
        "**Respuesta.** "
      ]
    },
    {
      "cell_type": "code",
      "metadata": {
        "colab": {
          "base_uri": "https://localhost:8080/"
        },
        "id": "WkMRAVeRlTr7",
        "outputId": "6444aa95-a8f3-49d9-cefb-73da08f0ba81"
      },
      "source": [
        "with open('/content/gdrive/MyDrive/KEYCODE/ACTIVIDADES/Taller4_Caso_real_NYC/Caso NYC/data/borough_data.json') as f:\n",
        "    borough_data=json.load(f)\n",
        "    \n",
        "borough_data"
      ],
      "execution_count": 27,
      "outputs": [
        {
          "output_type": "execute_result",
          "data": {
            "text/plain": [
              "{'brooklyn': {'area': 70.82, 'name': 'brooklyn', 'population': 2648771.0},\n",
              " 'manhattan': {'area': 22.83, 'name': 'manhattan', 'population': 1664727.0},\n",
              " 'queens': {'area': 108.53, 'name': 'queens', 'population': 2358582.0},\n",
              " 'staten island': {'area': 58.37,\n",
              "  'name': 'staten island',\n",
              "  'population': 479458.0},\n",
              " 'the bronx': {'area': 42.1, 'name': 'the bronx', 'population': 1471160.0}}"
            ]
          },
          "metadata": {},
          "execution_count": 27
        }
      ]
    },
    {
      "cell_type": "markdown",
      "metadata": {
        "id": "xK2_tcGolTr9"
      },
      "source": [
        "### Pregunta \n",
        "De manera similar, use la función pandas ```read_csv()``` para cargar el archivo ```accidentes.csv``` como un DataFrame. Nombra este DataFrame ```df```.\n"
      ]
    },
    {
      "cell_type": "code",
      "metadata": {
        "colab": {
          "base_uri": "https://localhost:8080/",
          "height": 789
        },
        "id": "GVdxGVCrp_tf",
        "outputId": "53d88db5-58d9-4282-e6d7-96b01bb8eead"
      },
      "source": [
        "import pandas as pd\n",
        "df= pd.read_csv('/content/gdrive/MyDrive/KEYCODE/ACTIVIDADES/Taller4_Caso_real_NYC/Caso NYC/data/accidents.csv', delimiter=';')\n",
        "df\n"
      ],
      "execution_count": 28,
      "outputs": [
        {
          "output_type": "execute_result",
          "data": {
            "text/html": [
              "<div>\n",
              "<style scoped>\n",
              "    .dataframe tbody tr th:only-of-type {\n",
              "        vertical-align: middle;\n",
              "    }\n",
              "\n",
              "    .dataframe tbody tr th {\n",
              "        vertical-align: top;\n",
              "    }\n",
              "\n",
              "    .dataframe thead th {\n",
              "        text-align: right;\n",
              "    }\n",
              "</style>\n",
              "<table border=\"1\" class=\"dataframe\">\n",
              "  <thead>\n",
              "    <tr style=\"text-align: right;\">\n",
              "      <th></th>\n",
              "      <th>DATE</th>\n",
              "      <th>TIME</th>\n",
              "      <th>BOROUGH</th>\n",
              "      <th>ZIP CODE</th>\n",
              "      <th>LATITUDE</th>\n",
              "      <th>LONGITUDE</th>\n",
              "      <th>ON STREET NAME</th>\n",
              "      <th>NUMBER OF PEDESTRIANS INJURED</th>\n",
              "      <th>NUMBER OF PEDESTRIANS KILLED</th>\n",
              "      <th>NUMBER OF CYCLIST INJURED</th>\n",
              "      <th>NUMBER OF CYCLIST KILLED</th>\n",
              "      <th>NUMBER OF MOTORIST INJURED</th>\n",
              "      <th>NUMBER OF MOTORIST KILLED</th>\n",
              "      <th>CONTRIBUTING FACTOR VEHICLE 1</th>\n",
              "      <th>CONTRIBUTING FACTOR VEHICLE 2</th>\n",
              "      <th>CONTRIBUTING FACTOR VEHICLE 3</th>\n",
              "      <th>CONTRIBUTING FACTOR VEHICLE 4</th>\n",
              "      <th>CONTRIBUTING FACTOR VEHICLE 5</th>\n",
              "      <th>COLLISION_ID</th>\n",
              "      <th>VEHICLE TYPE CODE 1</th>\n",
              "      <th>VEHICLE TYPE CODE 2</th>\n",
              "      <th>VEHICLE TYPE CODE 3</th>\n",
              "      <th>VEHICLE TYPE CODE 4</th>\n",
              "      <th>VEHICLE TYPE CODE 5</th>\n",
              "    </tr>\n",
              "  </thead>\n",
              "  <tbody>\n",
              "    <tr>\n",
              "      <th>0</th>\n",
              "      <td>09/26/2018</td>\n",
              "      <td>12:12</td>\n",
              "      <td>BRONX</td>\n",
              "      <td>10454.0</td>\n",
              "      <td>40.808987</td>\n",
              "      <td>-73.911316</td>\n",
              "      <td>NaN</td>\n",
              "      <td>0</td>\n",
              "      <td>0</td>\n",
              "      <td>0</td>\n",
              "      <td>0</td>\n",
              "      <td>0</td>\n",
              "      <td>0</td>\n",
              "      <td>Unspecified</td>\n",
              "      <td>NaN</td>\n",
              "      <td>NaN</td>\n",
              "      <td>NaN</td>\n",
              "      <td>NaN</td>\n",
              "      <td>3988123</td>\n",
              "      <td>Sedan</td>\n",
              "      <td>NaN</td>\n",
              "      <td>NaN</td>\n",
              "      <td>NaN</td>\n",
              "      <td>NaN</td>\n",
              "    </tr>\n",
              "    <tr>\n",
              "      <th>1</th>\n",
              "      <td>09/25/2018</td>\n",
              "      <td>16:30</td>\n",
              "      <td>BROOKLYN</td>\n",
              "      <td>11236.0</td>\n",
              "      <td>40.636005</td>\n",
              "      <td>-73.912510</td>\n",
              "      <td>FLATLANDS AVENUE</td>\n",
              "      <td>1</td>\n",
              "      <td>0</td>\n",
              "      <td>0</td>\n",
              "      <td>0</td>\n",
              "      <td>0</td>\n",
              "      <td>0</td>\n",
              "      <td>Unspecified</td>\n",
              "      <td>NaN</td>\n",
              "      <td>NaN</td>\n",
              "      <td>NaN</td>\n",
              "      <td>NaN</td>\n",
              "      <td>3987962</td>\n",
              "      <td>Sedan</td>\n",
              "      <td>NaN</td>\n",
              "      <td>NaN</td>\n",
              "      <td>NaN</td>\n",
              "      <td>NaN</td>\n",
              "    </tr>\n",
              "    <tr>\n",
              "      <th>2</th>\n",
              "      <td>08/22/2019</td>\n",
              "      <td>19:30</td>\n",
              "      <td>QUEENS</td>\n",
              "      <td>11101.0</td>\n",
              "      <td>40.755490</td>\n",
              "      <td>-73.939530</td>\n",
              "      <td>NaN</td>\n",
              "      <td>0</td>\n",
              "      <td>0</td>\n",
              "      <td>0</td>\n",
              "      <td>0</td>\n",
              "      <td>0</td>\n",
              "      <td>0</td>\n",
              "      <td>Unspecified</td>\n",
              "      <td>NaN</td>\n",
              "      <td>NaN</td>\n",
              "      <td>NaN</td>\n",
              "      <td>NaN</td>\n",
              "      <td>4193132</td>\n",
              "      <td>Sedan</td>\n",
              "      <td>NaN</td>\n",
              "      <td>NaN</td>\n",
              "      <td>NaN</td>\n",
              "      <td>NaN</td>\n",
              "    </tr>\n",
              "    <tr>\n",
              "      <th>3</th>\n",
              "      <td>09/23/2018</td>\n",
              "      <td>13:10</td>\n",
              "      <td>QUEENS</td>\n",
              "      <td>11367.0</td>\n",
              "      <td>NaN</td>\n",
              "      <td>NaN</td>\n",
              "      <td>MAIN STREET</td>\n",
              "      <td>0</td>\n",
              "      <td>0</td>\n",
              "      <td>1</td>\n",
              "      <td>0</td>\n",
              "      <td>0</td>\n",
              "      <td>0</td>\n",
              "      <td>Driver Inattention/Distraction</td>\n",
              "      <td>Unspecified</td>\n",
              "      <td>NaN</td>\n",
              "      <td>NaN</td>\n",
              "      <td>NaN</td>\n",
              "      <td>3985962</td>\n",
              "      <td>Bike</td>\n",
              "      <td>Station Wagon/Sport Utility Vehicle</td>\n",
              "      <td>NaN</td>\n",
              "      <td>NaN</td>\n",
              "      <td>NaN</td>\n",
              "    </tr>\n",
              "    <tr>\n",
              "      <th>4</th>\n",
              "      <td>08/20/2019</td>\n",
              "      <td>22:40</td>\n",
              "      <td>BRONX</td>\n",
              "      <td>10468.0</td>\n",
              "      <td>40.868336</td>\n",
              "      <td>-73.901270</td>\n",
              "      <td>NaN</td>\n",
              "      <td>0</td>\n",
              "      <td>0</td>\n",
              "      <td>0</td>\n",
              "      <td>0</td>\n",
              "      <td>1</td>\n",
              "      <td>0</td>\n",
              "      <td>View Obstructed/Limited</td>\n",
              "      <td>Unspecified</td>\n",
              "      <td>NaN</td>\n",
              "      <td>NaN</td>\n",
              "      <td>NaN</td>\n",
              "      <td>4192111</td>\n",
              "      <td>Sedan</td>\n",
              "      <td>Sedan</td>\n",
              "      <td>NaN</td>\n",
              "      <td>NaN</td>\n",
              "      <td>NaN</td>\n",
              "    </tr>\n",
              "    <tr>\n",
              "      <th>...</th>\n",
              "      <td>...</td>\n",
              "      <td>...</td>\n",
              "      <td>...</td>\n",
              "      <td>...</td>\n",
              "      <td>...</td>\n",
              "      <td>...</td>\n",
              "      <td>...</td>\n",
              "      <td>...</td>\n",
              "      <td>...</td>\n",
              "      <td>...</td>\n",
              "      <td>...</td>\n",
              "      <td>...</td>\n",
              "      <td>...</td>\n",
              "      <td>...</td>\n",
              "      <td>...</td>\n",
              "      <td>...</td>\n",
              "      <td>...</td>\n",
              "      <td>...</td>\n",
              "      <td>...</td>\n",
              "      <td>...</td>\n",
              "      <td>...</td>\n",
              "      <td>...</td>\n",
              "      <td>...</td>\n",
              "      <td>...</td>\n",
              "    </tr>\n",
              "    <tr>\n",
              "      <th>238517</th>\n",
              "      <td>01/20/2018</td>\n",
              "      <td>15:00</td>\n",
              "      <td>QUEENS</td>\n",
              "      <td>11436.0</td>\n",
              "      <td>40.685356</td>\n",
              "      <td>-73.797230</td>\n",
              "      <td>LINDEN BOULEVARD</td>\n",
              "      <td>0</td>\n",
              "      <td>0</td>\n",
              "      <td>0</td>\n",
              "      <td>0</td>\n",
              "      <td>0</td>\n",
              "      <td>0</td>\n",
              "      <td>Driver Inattention/Distraction</td>\n",
              "      <td>Unspecified</td>\n",
              "      <td>NaN</td>\n",
              "      <td>NaN</td>\n",
              "      <td>NaN</td>\n",
              "      <td>3832275</td>\n",
              "      <td>SPORT UTILITY / STATION WAGON</td>\n",
              "      <td>PASSENGER VEHICLE</td>\n",
              "      <td>NaN</td>\n",
              "      <td>NaN</td>\n",
              "      <td>NaN</td>\n",
              "    </tr>\n",
              "    <tr>\n",
              "      <th>238518</th>\n",
              "      <td>01/04/2018</td>\n",
              "      <td>14:00</td>\n",
              "      <td>BRONX</td>\n",
              "      <td>10452.0</td>\n",
              "      <td>40.845180</td>\n",
              "      <td>-73.914170</td>\n",
              "      <td>JEROME AVENUE</td>\n",
              "      <td>0</td>\n",
              "      <td>0</td>\n",
              "      <td>0</td>\n",
              "      <td>0</td>\n",
              "      <td>0</td>\n",
              "      <td>0</td>\n",
              "      <td>Pavement Slippery</td>\n",
              "      <td>NaN</td>\n",
              "      <td>NaN</td>\n",
              "      <td>NaN</td>\n",
              "      <td>NaN</td>\n",
              "      <td>3822315</td>\n",
              "      <td>SPORT UTILITY / STATION WAGON</td>\n",
              "      <td>NaN</td>\n",
              "      <td>NaN</td>\n",
              "      <td>NaN</td>\n",
              "      <td>NaN</td>\n",
              "    </tr>\n",
              "    <tr>\n",
              "      <th>238519</th>\n",
              "      <td>01/20/2018</td>\n",
              "      <td>13:05</td>\n",
              "      <td>BRONX</td>\n",
              "      <td>10462.0</td>\n",
              "      <td>40.831210</td>\n",
              "      <td>-73.850876</td>\n",
              "      <td>CASTLE HILL AVENUE</td>\n",
              "      <td>0</td>\n",
              "      <td>0</td>\n",
              "      <td>0</td>\n",
              "      <td>0</td>\n",
              "      <td>0</td>\n",
              "      <td>0</td>\n",
              "      <td>Unsafe Lane Changing</td>\n",
              "      <td>Unspecified</td>\n",
              "      <td>NaN</td>\n",
              "      <td>NaN</td>\n",
              "      <td>NaN</td>\n",
              "      <td>3832513</td>\n",
              "      <td>PASSENGER VEHICLE</td>\n",
              "      <td>SPORT UTILITY / STATION WAGON</td>\n",
              "      <td>NaN</td>\n",
              "      <td>NaN</td>\n",
              "      <td>NaN</td>\n",
              "    </tr>\n",
              "    <tr>\n",
              "      <th>238520</th>\n",
              "      <td>01/29/2018</td>\n",
              "      <td>17:45</td>\n",
              "      <td>QUEENS</td>\n",
              "      <td>11377.0</td>\n",
              "      <td>40.757250</td>\n",
              "      <td>-73.904854</td>\n",
              "      <td>31 AVENUE</td>\n",
              "      <td>0</td>\n",
              "      <td>0</td>\n",
              "      <td>0</td>\n",
              "      <td>0</td>\n",
              "      <td>2</td>\n",
              "      <td>0</td>\n",
              "      <td>Failure to Yield Right-of-Way</td>\n",
              "      <td>Unspecified</td>\n",
              "      <td>NaN</td>\n",
              "      <td>NaN</td>\n",
              "      <td>NaN</td>\n",
              "      <td>3837608</td>\n",
              "      <td>SPORT UTILITY / STATION WAGON</td>\n",
              "      <td>PASSENGER VEHICLE</td>\n",
              "      <td>NaN</td>\n",
              "      <td>NaN</td>\n",
              "      <td>NaN</td>\n",
              "    </tr>\n",
              "    <tr>\n",
              "      <th>238521</th>\n",
              "      <td>01/23/2018</td>\n",
              "      <td>16:38</td>\n",
              "      <td>BROOKLYN</td>\n",
              "      <td>11211.0</td>\n",
              "      <td>40.710197</td>\n",
              "      <td>-73.958430</td>\n",
              "      <td>HAVEMEYER STREET</td>\n",
              "      <td>0</td>\n",
              "      <td>0</td>\n",
              "      <td>0</td>\n",
              "      <td>0</td>\n",
              "      <td>0</td>\n",
              "      <td>0</td>\n",
              "      <td>Following Too Closely</td>\n",
              "      <td>Passing or Lane Usage Improper</td>\n",
              "      <td>NaN</td>\n",
              "      <td>NaN</td>\n",
              "      <td>NaN</td>\n",
              "      <td>3833631</td>\n",
              "      <td>SPORT UTILITY / STATION WAGON</td>\n",
              "      <td>SPORT UTILITY / STATION WAGON</td>\n",
              "      <td>NaN</td>\n",
              "      <td>NaN</td>\n",
              "      <td>NaN</td>\n",
              "    </tr>\n",
              "  </tbody>\n",
              "</table>\n",
              "<p>238522 rows × 24 columns</p>\n",
              "</div>"
            ],
            "text/plain": [
              "              DATE   TIME  ... VEHICLE TYPE CODE 4  VEHICLE TYPE CODE 5\n",
              "0       09/26/2018  12:12  ...                 NaN                  NaN\n",
              "1       09/25/2018  16:30  ...                 NaN                  NaN\n",
              "2       08/22/2019  19:30  ...                 NaN                  NaN\n",
              "3       09/23/2018  13:10  ...                 NaN                  NaN\n",
              "4       08/20/2019  22:40  ...                 NaN                  NaN\n",
              "...            ...    ...  ...                 ...                  ...\n",
              "238517  01/20/2018  15:00  ...                 NaN                  NaN\n",
              "238518  01/04/2018  14:00  ...                 NaN                  NaN\n",
              "238519  01/20/2018  13:05  ...                 NaN                  NaN\n",
              "238520  01/29/2018  17:45  ...                 NaN                  NaN\n",
              "238521  01/23/2018  16:38  ...                 NaN                  NaN\n",
              "\n",
              "[238522 rows x 24 columns]"
            ]
          },
          "metadata": {},
          "execution_count": 28
        }
      ]
    },
    {
      "cell_type": "markdown",
      "metadata": {
        "id": "JB-UJKsYlTr-"
      },
      "source": [
        "**Respuesta.** "
      ]
    },
    {
      "cell_type": "markdown",
      "metadata": {
        "id": "bmEuahgLlTr_"
      },
      "source": [
        "## Overview de la data"
      ]
    },
    {
      "cell_type": "markdown",
      "metadata": {
        "id": "NU_HIrkklTr_"
      },
      "source": [
        "Analizemos las columnas presentes en el data frame"
      ]
    },
    {
      "cell_type": "code",
      "metadata": {
        "scrolled": true,
        "colab": {
          "base_uri": "https://localhost:8080/"
        },
        "id": "L-SK1MNQlTr_",
        "outputId": "583dd83e-6490-47a8-9bb8-dfa38758da93"
      },
      "source": [
        "df.columns"
      ],
      "execution_count": 29,
      "outputs": [
        {
          "output_type": "execute_result",
          "data": {
            "text/plain": [
              "Index(['DATE', 'TIME', 'BOROUGH', 'ZIP CODE', 'LATITUDE', 'LONGITUDE',\n",
              "       'ON STREET NAME', 'NUMBER OF PEDESTRIANS INJURED',\n",
              "       'NUMBER OF PEDESTRIANS KILLED', 'NUMBER OF CYCLIST INJURED',\n",
              "       'NUMBER OF CYCLIST KILLED', 'NUMBER OF MOTORIST INJURED',\n",
              "       'NUMBER OF MOTORIST KILLED', 'CONTRIBUTING FACTOR VEHICLE 1',\n",
              "       'CONTRIBUTING FACTOR VEHICLE 2', 'CONTRIBUTING FACTOR VEHICLE 3',\n",
              "       'CONTRIBUTING FACTOR VEHICLE 4', 'CONTRIBUTING FACTOR VEHICLE 5',\n",
              "       'COLLISION_ID', 'VEHICLE TYPE CODE 1', 'VEHICLE TYPE CODE 2',\n",
              "       'VEHICLE TYPE CODE 3', 'VEHICLE TYPE CODE 4', 'VEHICLE TYPE CODE 5'],\n",
              "      dtype='object')"
            ]
          },
          "metadata": {},
          "execution_count": 29
        }
      ]
    },
    {
      "cell_type": "markdown",
      "metadata": {
        "id": "Vkxo6K_NlTsA"
      },
      "source": [
        "Tenemos las siguientes columnas\n",
        "\n",
        "1. **BOROUGH**: el municipio en el que ocurrió el accidente\n",
        "2. **COLLISION_ID**: un identificador único para esta colisión\n",
        "3. **CONTRIBUTING FACTOR VEHICLE (1, 2, 3, 4, 5)**: Motivos del accidente\n",
        "4. **CROSS STREET NAME**: Calle transversal más cercana al lugar del accidente\n",
        "5. **DATE**: Fecha del accidente\n",
        "6. **TIME**: Hora del accidente\n",
        "7. **LATITUDE**: Latitud del accidente\n",
        "8. **LONGITUDE**: Longitud del accidente\n",
        "9. **NUMBER OF (CYCLISTS, MOTORISTS, PEDESTRIANS) INJURED**: Lesión por categoría\n",
        "10. **NUMBER OF (CYCLISTS, MOTORISTS, PEDESTRIANS) DEATHS**: Categoría muerte sabia\n",
        "11. **ON STREET NAME**: Calle donde ocurrió el accidente\n",
        "13. **VEHICLE TYPE CODE(1, 2, 3, 4, 5)**: Tipos de vehículos involucrados en el accidente\n",
        "14. **ZIP CODE**: código postal del lugar del accidente"
      ]
    },
    {
      "cell_type": "markdown",
      "metadata": {
        "id": "85yBPmzylTsA"
      },
      "source": [
        "### Ejercicio 1\n",
        "\n",
        "Desde 2014, la ciudad de Nueva York ha estado implementando un plan de seguridad vial llamado [Vision Zero](https://www1.nyc.gov/content/visionzero/pages/). Su objetivo es reducir el número de muertes por accidentes de tránsito a *cero* para fines de 2024. El plan está creando nuevas y mejorando las medidas de seguridad actuales, algunas de ellas incluyen:\n",
        "\n",
        "- [ ] Detección de peatones automatizada\n",
        "- [**X**] Auditorías de seguridad vial en lugares de alto riesgo\n",
        "- [**X**] Ampliación de la red de carriles bici\n",
        "- [**X**] Iniciativas específicas de educación y sensibilización\n",
        "- [ ] Creación de islas de refugio peatonal\n",
        "- [**X**] Lanzamiento del programa integrado de reductor de velocidad basado en datos (topes y amortiguadores de velocidad)\n",
        "\n",
        "¿Cuáles de estas iniciativas podrían beneficiarse directamente de un análisis de los datos proporcionados? Marque todo lo que corresponda.\n",
        "\n",
        "**Nota:** Puede crear marcas de verificación haciendo doble clic en esta celda y agregando una ```[x]``` en las líneas correspondientes."
      ]
    },
    {
      "cell_type": "markdown",
      "metadata": {
        "id": "XNijhJwflTsB"
      },
      "source": [
        "**Respuesta.**\n",
        "\n",
        "- [ ] Detecciòn de peatones automatizada\n",
        "\n",
        "\n",
        "- [ ] Auditorías de seguridadvial en lugares de alto riesgo\n",
        "\n",
        "- [ ] Ampliación de la red de carriles bici\n",
        "\n",
        "- [ ] Iniciativas especificas de educación y sensibilización\n",
        "\n",
        "- [ ] Creación de islas de refugio peatonal\n",
        "\n",
        "- [ ] Lanzamiento del programa integrado de reductor de velocidad en datos (topes y amortiguadores de velocidad)\n"
      ]
    },
    {
      "cell_type": "markdown",
      "metadata": {
        "id": "KPDS5_bqlTsB"
      },
      "source": [
        "Sigamos adelante y respondamos a cada una de las preguntas del cliente."
      ]
    },
    {
      "cell_type": "markdown",
      "metadata": {
        "id": "fDVpcAT2lTsB"
      },
      "source": [
        "## Respondiendo las preguntas del cliente "
      ]
    },
    {
      "cell_type": "markdown",
      "metadata": {
        "id": "CHtHSMiilTsC"
      },
      "source": [
        "### Ejercicio 2 \n",
        "\n",
        "Agrupe los datos disponibles mensualmente y genere un line plot de accidentes a lo largo del tiempo. ¿Ha aumentado el número de accidentes durante el último año y medio?\n",
        "\n",
        "**Sugerencia**: Puede encontrar útiles las funciones de pandas ```to_datetime ()``` y ```dt.to_period ()```."
      ]
    },
    {
      "cell_type": "markdown",
      "metadata": {
        "id": "xRk1rzONlTsC"
      },
      "source": [
        "**Respuesta.** "
      ]
    },
    {
      "cell_type": "code",
      "metadata": {
        "colab": {
          "base_uri": "https://localhost:8080/",
          "height": 323
        },
        "id": "P30Lsgk2lTsC",
        "outputId": "da6943b4-0ea3-4d6d-cc1d-f66a0d940ba1"
      },
      "source": [
        "df['DATE']=pd.to_datetime(df['DATE'], format='%m/%d/%Y')\n",
        "accidentes_mensuales=df.groupby(df['DATE'].dt.to_period('M')).size()\n",
        "accidentes_mensuales.plot.line(linestyle='-', marker='*', color='#255969')\n",
        "plt.xlabel('Meses')\n",
        "plt.ylabel('No. accidentes')\n",
        "plt.title('No. de accidentes mensuales')\n"
      ],
      "execution_count": 30,
      "outputs": [
        {
          "output_type": "execute_result",
          "data": {
            "text/plain": [
              "Text(0.5, 1.0, 'No. de accidentes mensuales')"
            ]
          },
          "metadata": {},
          "execution_count": 30
        },
        {
          "output_type": "display_data",
          "data": {
            "image/png": "[encoded data removed]",
            "text/plain": [
              "<Figure size 432x288 with 1 Axes>"
            ]
          },
          "metadata": {
            "needs_background": "light"
          }
        }
      ]
    },
    {
      "cell_type": "markdown",
      "metadata": {
        "id": "2UwhGoeslTsC"
      },
      "source": [
        "*   Nivel bajo de accidentes:Diciembre a Febrero\n",
        "*   Nivel alto de acidentes: Mayo a Noviembre\n",
        "*   Disminución de accidentes notable 2019 comparando con el año anterior."
      ]
    },
    {
      "cell_type": "markdown",
      "metadata": {
        "id": "ntcMIb8blTsC"
      },
      "source": [
        "### Ejercicio 3\n",
        "\n",
        "De la gráfica anterior, ¿qué meses parecen tener el menor número de accidentes? ¿Cuáles crees que son las razones detrás de esto?"
      ]
    },
    {
      "cell_type": "markdown",
      "metadata": {
        "id": "Ca9WL_OOlTsD"
      },
      "source": [
        "**Respuesta.**   Diciembre y Febrero son los meses con menor accidentalidad,, pienso que la razón es que la mayoria de personas al estar en invierno se encuentran en sus hogares.\n"
      ]
    },
    {
      "cell_type": "markdown",
      "metadata": {
        "id": "VUQI-MBqlTsD"
      },
      "source": [
        "### Ejercicio 4 \n",
        "¿Cómo varía el número de accidentes a lo largo de un solo día? Cree una nueva columna `HOUR` basada en los datos de la columna `TIME`, luego trace un gráfico de barras de la distribución por hora a lo largo del día.\n",
        "\n",
        "**Sugerencia:** Puede encontrar útil la función ```dt.hour```."
      ]
    },
    {
      "cell_type": "markdown",
      "metadata": {
        "id": "pYTpX5NXlTsD"
      },
      "source": [
        "**Respuesta.**"
      ]
    },
    {
      "cell_type": "code",
      "metadata": {
        "id": "UEDyFe6_lTsD",
        "colab": {
          "base_uri": "https://localhost:8080/",
          "height": 314
        },
        "outputId": "7f0d9a7e-9658-4a01-c40f-6cf635a5672b"
      },
      "source": [
        "df['HOUR']=pd.to_datetime(df['TIME'], format='%H:%M')\n",
        "accidentes_hora=df.groupby(df['HOUR'].dt.hour).size()\n",
        "accidentes_hora.plot.bar(color='#255969')\n",
        "plt.xlabel('HORA')\n",
        "plt.ylabel('No. ACCIDENTES')\n",
        "plt.title('No. ACCIDENTES POR HORA')\n"
      ],
      "execution_count": 31,
      "outputs": [
        {
          "output_type": "execute_result",
          "data": {
            "text/plain": [
              "Text(0.5, 1.0, 'No. ACCIDENTES POR HORA')"
            ]
          },
          "metadata": {},
          "execution_count": 31
        },
        {
          "output_type": "display_data",
          "data": {
            "image/png": "[encoded data removed]",
            "text/plain": [
              "<Figure size 432x288 with 1 Axes>"
            ]
          },
          "metadata": {
            "needs_background": "light"
          }
        }
      ]
    },
    {
      "cell_type": "markdown",
      "metadata": {
        "id": "ixdGOTNNlTsD"
      },
      "source": [
        "Se puede observar en la grafica que en las horas de madrugada (2 a 4 am) tienen el menor indice de accidentalidad, por el contrario las horas de la tarde (2,4 y 5 pm) se genera un aumento bastante amplio, se puede deber a factores de cansancio al salir de sus jornadas laborales."
      ]
    },
    {
      "cell_type": "markdown",
      "metadata": {
        "id": "nDybu9TrlTsE"
      },
      "source": [
        "### Ejercicio 5 \n",
        "\n",
        "En la pregunta anterior hemos agregado el número de accidentes por hora sin tener en cuenta la fecha y el lugar en que ocurrieron. ¿Qué crítica le daría a este enfoque?"
      ]
    },
    {
      "cell_type": "markdown",
      "metadata": {
        "id": "OO8X7KpplTsE"
      },
      "source": [
        "**Respuesta.** \n",
        "Al no tener un patrón concreto con datos de fecha y el lugar en donde ocurren los accidentes se disminuye la efectividad del plan para evitar menos accidentalidad."
      ]
    },
    {
      "cell_type": "markdown",
      "metadata": {
        "id": "hgscrMGElTsE"
      },
      "source": [
        "### Ejercicio 6 \n",
        "\n",
        "¿Cómo varía el número de accidentes en una sola semana? Trace un gráfico de barras basado en el recuento de accidentes por día de la semana.\n",
        "\n",
        "**Sugerencia:** Puede encontrar útil la función ```dt.weekday```."
      ]
    },
    {
      "cell_type": "markdown",
      "metadata": {
        "id": "CjdEdphqlTsE"
      },
      "source": [
        "**Respuesta.** Se observa que el jueves y el viernes son los dias con mas indice de accidentalidad."
      ]
    },
    {
      "cell_type": "code",
      "metadata": {
        "colab": {
          "base_uri": "https://localhost:8080/",
          "height": 387
        },
        "id": "6wmc0yPA97z7",
        "outputId": "bf502beb-669d-4144-c7eb-4f8f9be8369d"
      },
      "source": [
        "accidentes_semanales=df.groupby(df['DATE'].dt.weekday).size()\n",
        "plt.figure(figsize=(7,5))\n",
        "accidentes_semanales.plot.bar(label='No. de Accidentes', color='#255969')\n",
        "plt.xticks([0,1,2,3,4,5,6],['Lunes','Martes','Miércoles','Jueves','Viernes','Sábado','Domingo'])\n",
        "plt.xlabel('Días de la Semana')\n",
        "plt.ylabel('No. de Accidentes')\n",
        "plt.legend()\n"
      ],
      "execution_count": 32,
      "outputs": [
        {
          "output_type": "execute_result",
          "data": {
            "text/plain": [
              "<matplotlib.legend.Legend at 0x7f0612381390>"
            ]
          },
          "metadata": {},
          "execution_count": 32
        },
        {
          "output_type": "display_data",
          "data": {
            "image/png": "[encoded data removed]",
            "text/plain": [
              "<Figure size 504x360 with 1 Axes>"
            ]
          },
          "metadata": {
            "needs_background": "light"
          }
        }
      ]
    },
    {
      "cell_type": "markdown",
      "metadata": {
        "id": "G39NsDGPlTsF"
      },
      "source": [
        "### Ejercicio 7\n",
        "\n",
        "Trace una gráfica de barras del número total de accidentes en cada municipio, así como uno de los accidentes por milla cuadrada por municipio. ¿Qué puedes concluir?\n",
        "\n",
        "**Sugerencia:** Es posible que desee actualizar algunas de las claves en el diccionario del municipio para que coincidan con los nombres en el marco de datos."
      ]
    },
    {
      "cell_type": "markdown",
      "metadata": {
        "id": "PlrdjDkplTsF"
      },
      "source": [
        "**Respuesta.**"
      ]
    },
    {
      "cell_type": "code",
      "metadata": {
        "id": "6IwZcgNulTsF",
        "colab": {
          "base_uri": "https://localhost:8080/",
          "height": 446
        },
        "outputId": "1287bdc0-d7b2-4a3e-a9ad-e23573b9be57"
      },
      "source": [
        "Borough_1=df.groupby(['BOROUGH']).size()\n",
        "plt.figure(figsize=(8,6))\n",
        "Borough_1.plot.bar(label='No. Accidentes', color='#255969')\n",
        "plt.xlabel('MUNICIPIOS')\n",
        "plt.xticks(rotation=20)\n",
        "plt.ylabel('No. ACCIDENTES')\n",
        "plt.legend()\n",
        "plt.title('No. ACCIDENTES POR MUNICIPIO')\n",
        "\n"
      ],
      "execution_count": 33,
      "outputs": [
        {
          "output_type": "execute_result",
          "data": {
            "text/plain": [
              "Text(0.5, 1.0, 'No. ACCIDENTES POR MUNICIPIO')"
            ]
          },
          "metadata": {},
          "execution_count": 33
        },
        {
          "output_type": "display_data",
          "data": {
            "image/png": "[encoded data removed]",
            "text/plain": [
              "<Figure size 576x432 with 1 Axes>"
            ]
          },
          "metadata": {
            "needs_background": "light"
          }
        }
      ]
    },
    {
      "cell_type": "markdown",
      "metadata": {
        "id": "UWrxr_OnlTsF"
      },
      "source": [
        "### Ejercicio 8 \n",
        "\n",
        "¿Qué horas tienen más accidentes en cada municipio? Trace un gráfico de barras para cada municipio que muestre el número de accidentes por cada hora del día.\n",
        "\n",
        "**Sugerencia:** Puede usar ```sns.FacetGrid``` para crear una cuadrícula de parcelas con los datos por hora de cada municipio."
      ]
    },
    {
      "cell_type": "markdown",
      "metadata": {
        "id": "ay17jAoulTsG"
      },
      "source": [
        "**Respuesta.**"
      ]
    },
    {
      "cell_type": "code",
      "metadata": {
        "id": "LkXdB5uvlTsG",
        "colab": {
          "base_uri": "https://localhost:8080/",
          "height": 959
        },
        "outputId": "d51d97d2-1fb2-43e5-8fdd-c1e0f96eab9f"
      },
      "source": [
        "df.groupby(['BOROUGH', 'HOUR']).size()\n",
        "df1 = pd.DataFrame({'count': df.groupby(['BOROUGH', 'HOUR']).size()})\n",
        "df1\n",
        "df1 = df1.reset_index()\n",
        "df1.head(30)"
      ],
      "execution_count": 34,
      "outputs": [
        {
          "output_type": "execute_result",
          "data": {
            "text/html": [
              "<div>\n",
              "<style scoped>\n",
              "    .dataframe tbody tr th:only-of-type {\n",
              "        vertical-align: middle;\n",
              "    }\n",
              "\n",
              "    .dataframe tbody tr th {\n",
              "        vertical-align: top;\n",
              "    }\n",
              "\n",
              "    .dataframe thead th {\n",
              "        text-align: right;\n",
              "    }\n",
              "</style>\n",
              "<table border=\"1\" class=\"dataframe\">\n",
              "  <thead>\n",
              "    <tr style=\"text-align: right;\">\n",
              "      <th></th>\n",
              "      <th>BOROUGH</th>\n",
              "      <th>HOUR</th>\n",
              "      <th>count</th>\n",
              "    </tr>\n",
              "  </thead>\n",
              "  <tbody>\n",
              "    <tr>\n",
              "      <th>0</th>\n",
              "      <td>BRONX</td>\n",
              "      <td>1900-01-01 00:00:00</td>\n",
              "      <td>702</td>\n",
              "    </tr>\n",
              "    <tr>\n",
              "      <th>1</th>\n",
              "      <td>BRONX</td>\n",
              "      <td>1900-01-01 00:01:00</td>\n",
              "      <td>23</td>\n",
              "    </tr>\n",
              "    <tr>\n",
              "      <th>2</th>\n",
              "      <td>BRONX</td>\n",
              "      <td>1900-01-01 00:02:00</td>\n",
              "      <td>11</td>\n",
              "    </tr>\n",
              "    <tr>\n",
              "      <th>3</th>\n",
              "      <td>BRONX</td>\n",
              "      <td>1900-01-01 00:03:00</td>\n",
              "      <td>5</td>\n",
              "    </tr>\n",
              "    <tr>\n",
              "      <th>4</th>\n",
              "      <td>BRONX</td>\n",
              "      <td>1900-01-01 00:04:00</td>\n",
              "      <td>8</td>\n",
              "    </tr>\n",
              "    <tr>\n",
              "      <th>5</th>\n",
              "      <td>BRONX</td>\n",
              "      <td>1900-01-01 00:05:00</td>\n",
              "      <td>37</td>\n",
              "    </tr>\n",
              "    <tr>\n",
              "      <th>6</th>\n",
              "      <td>BRONX</td>\n",
              "      <td>1900-01-01 00:06:00</td>\n",
              "      <td>8</td>\n",
              "    </tr>\n",
              "    <tr>\n",
              "      <th>7</th>\n",
              "      <td>BRONX</td>\n",
              "      <td>1900-01-01 00:07:00</td>\n",
              "      <td>9</td>\n",
              "    </tr>\n",
              "    <tr>\n",
              "      <th>8</th>\n",
              "      <td>BRONX</td>\n",
              "      <td>1900-01-01 00:08:00</td>\n",
              "      <td>5</td>\n",
              "    </tr>\n",
              "    <tr>\n",
              "      <th>9</th>\n",
              "      <td>BRONX</td>\n",
              "      <td>1900-01-01 00:09:00</td>\n",
              "      <td>3</td>\n",
              "    </tr>\n",
              "    <tr>\n",
              "      <th>10</th>\n",
              "      <td>BRONX</td>\n",
              "      <td>1900-01-01 00:10:00</td>\n",
              "      <td>30</td>\n",
              "    </tr>\n",
              "    <tr>\n",
              "      <th>11</th>\n",
              "      <td>BRONX</td>\n",
              "      <td>1900-01-01 00:11:00</td>\n",
              "      <td>4</td>\n",
              "    </tr>\n",
              "    <tr>\n",
              "      <th>12</th>\n",
              "      <td>BRONX</td>\n",
              "      <td>1900-01-01 00:12:00</td>\n",
              "      <td>11</td>\n",
              "    </tr>\n",
              "    <tr>\n",
              "      <th>13</th>\n",
              "      <td>BRONX</td>\n",
              "      <td>1900-01-01 00:13:00</td>\n",
              "      <td>7</td>\n",
              "    </tr>\n",
              "    <tr>\n",
              "      <th>14</th>\n",
              "      <td>BRONX</td>\n",
              "      <td>1900-01-01 00:14:00</td>\n",
              "      <td>4</td>\n",
              "    </tr>\n",
              "    <tr>\n",
              "      <th>15</th>\n",
              "      <td>BRONX</td>\n",
              "      <td>1900-01-01 00:15:00</td>\n",
              "      <td>33</td>\n",
              "    </tr>\n",
              "    <tr>\n",
              "      <th>16</th>\n",
              "      <td>BRONX</td>\n",
              "      <td>1900-01-01 00:16:00</td>\n",
              "      <td>5</td>\n",
              "    </tr>\n",
              "    <tr>\n",
              "      <th>17</th>\n",
              "      <td>BRONX</td>\n",
              "      <td>1900-01-01 00:17:00</td>\n",
              "      <td>7</td>\n",
              "    </tr>\n",
              "    <tr>\n",
              "      <th>18</th>\n",
              "      <td>BRONX</td>\n",
              "      <td>1900-01-01 00:18:00</td>\n",
              "      <td>5</td>\n",
              "    </tr>\n",
              "    <tr>\n",
              "      <th>19</th>\n",
              "      <td>BRONX</td>\n",
              "      <td>1900-01-01 00:19:00</td>\n",
              "      <td>3</td>\n",
              "    </tr>\n",
              "    <tr>\n",
              "      <th>20</th>\n",
              "      <td>BRONX</td>\n",
              "      <td>1900-01-01 00:20:00</td>\n",
              "      <td>32</td>\n",
              "    </tr>\n",
              "    <tr>\n",
              "      <th>21</th>\n",
              "      <td>BRONX</td>\n",
              "      <td>1900-01-01 00:21:00</td>\n",
              "      <td>4</td>\n",
              "    </tr>\n",
              "    <tr>\n",
              "      <th>22</th>\n",
              "      <td>BRONX</td>\n",
              "      <td>1900-01-01 00:22:00</td>\n",
              "      <td>2</td>\n",
              "    </tr>\n",
              "    <tr>\n",
              "      <th>23</th>\n",
              "      <td>BRONX</td>\n",
              "      <td>1900-01-01 00:23:00</td>\n",
              "      <td>5</td>\n",
              "    </tr>\n",
              "    <tr>\n",
              "      <th>24</th>\n",
              "      <td>BRONX</td>\n",
              "      <td>1900-01-01 00:24:00</td>\n",
              "      <td>6</td>\n",
              "    </tr>\n",
              "    <tr>\n",
              "      <th>25</th>\n",
              "      <td>BRONX</td>\n",
              "      <td>1900-01-01 00:25:00</td>\n",
              "      <td>22</td>\n",
              "    </tr>\n",
              "    <tr>\n",
              "      <th>26</th>\n",
              "      <td>BRONX</td>\n",
              "      <td>1900-01-01 00:26:00</td>\n",
              "      <td>7</td>\n",
              "    </tr>\n",
              "    <tr>\n",
              "      <th>27</th>\n",
              "      <td>BRONX</td>\n",
              "      <td>1900-01-01 00:27:00</td>\n",
              "      <td>5</td>\n",
              "    </tr>\n",
              "    <tr>\n",
              "      <th>28</th>\n",
              "      <td>BRONX</td>\n",
              "      <td>1900-01-01 00:28:00</td>\n",
              "      <td>3</td>\n",
              "    </tr>\n",
              "    <tr>\n",
              "      <th>29</th>\n",
              "      <td>BRONX</td>\n",
              "      <td>1900-01-01 00:29:00</td>\n",
              "      <td>8</td>\n",
              "    </tr>\n",
              "  </tbody>\n",
              "</table>\n",
              "</div>"
            ],
            "text/plain": [
              "   BOROUGH                HOUR  count\n",
              "0    BRONX 1900-01-01 00:00:00    702\n",
              "1    BRONX 1900-01-01 00:01:00     23\n",
              "2    BRONX 1900-01-01 00:02:00     11\n",
              "3    BRONX 1900-01-01 00:03:00      5\n",
              "4    BRONX 1900-01-01 00:04:00      8\n",
              "5    BRONX 1900-01-01 00:05:00     37\n",
              "6    BRONX 1900-01-01 00:06:00      8\n",
              "7    BRONX 1900-01-01 00:07:00      9\n",
              "8    BRONX 1900-01-01 00:08:00      5\n",
              "9    BRONX 1900-01-01 00:09:00      3\n",
              "10   BRONX 1900-01-01 00:10:00     30\n",
              "11   BRONX 1900-01-01 00:11:00      4\n",
              "12   BRONX 1900-01-01 00:12:00     11\n",
              "13   BRONX 1900-01-01 00:13:00      7\n",
              "14   BRONX 1900-01-01 00:14:00      4\n",
              "15   BRONX 1900-01-01 00:15:00     33\n",
              "16   BRONX 1900-01-01 00:16:00      5\n",
              "17   BRONX 1900-01-01 00:17:00      7\n",
              "18   BRONX 1900-01-01 00:18:00      5\n",
              "19   BRONX 1900-01-01 00:19:00      3\n",
              "20   BRONX 1900-01-01 00:20:00     32\n",
              "21   BRONX 1900-01-01 00:21:00      4\n",
              "22   BRONX 1900-01-01 00:22:00      2\n",
              "23   BRONX 1900-01-01 00:23:00      5\n",
              "24   BRONX 1900-01-01 00:24:00      6\n",
              "25   BRONX 1900-01-01 00:25:00     22\n",
              "26   BRONX 1900-01-01 00:26:00      7\n",
              "27   BRONX 1900-01-01 00:27:00      5\n",
              "28   BRONX 1900-01-01 00:28:00      3\n",
              "29   BRONX 1900-01-01 00:29:00      8"
            ]
          },
          "metadata": {},
          "execution_count": 34
        }
      ]
    },
    {
      "cell_type": "code",
      "metadata": {
        "colab": {
          "base_uri": "https://localhost:8080/",
          "height": 456
        },
        "id": "Zt_7Z7g1HpHA",
        "outputId": "9b23be74-3d57-4279-d219-321bf445ba1e"
      },
      "source": [
        "chart = sns.FacetGrid(df1, col='BOROUGH', margin_titles=True, col_wrap=3, aspect=2, row_order=df['BOROUGH'].unique)\n",
        "chart"
      ],
      "execution_count": 35,
      "outputs": [
        {
          "output_type": "execute_result",
          "data": {
            "text/plain": [
              "<seaborn.axisgrid.FacetGrid at 0x7f0611ca9510>"
            ]
          },
          "metadata": {},
          "execution_count": 35
        },
        {
          "output_type": "display_data",
          "data": {
            "image/png": "[encoded data removed]",
            "text/plain": [
              "<Figure size 1296x432 with 5 Axes>"
            ]
          },
          "metadata": {
            "needs_background": "light"
          }
        }
      ]
    },
    {
      "cell_type": "code",
      "metadata": {
        "colab": {
          "base_uri": "https://localhost:8080/",
          "height": 489
        },
        "id": "XJzlp6HjICxA",
        "outputId": "c11e182e-84ad-405d-8283-130872aa24bc"
      },
      "source": [
        "df1 = pd.DataFrame({'count': df.groupby(['BOROUGH', 'HOUR']).size()})\n",
        "df1 = df1.reset_index()\n",
        "chart = sns.FacetGrid(df1, col='BOROUGH', margin_titles=True, col_wrap=3, aspect=2, row_order=df['BOROUGH'].unique)\n",
        "chart.map(sns.barplot, 'HOUR', 'count',)"
      ],
      "execution_count": 36,
      "outputs": [
        {
          "output_type": "stream",
          "name": "stderr",
          "text": [
            "/usr/local/lib/python3.7/dist-packages/seaborn/axisgrid.py:670: UserWarning: Using the barplot function without specifying `order` is likely to produce an incorrect plot.\n",
            "  warnings.warn(warning)\n"
          ]
        },
        {
          "output_type": "execute_result",
          "data": {
            "text/plain": [
              "<seaborn.axisgrid.FacetGrid at 0x7f0611d64e50>"
            ]
          },
          "metadata": {},
          "execution_count": 36
        },
        {
          "output_type": "display_data",
          "data": {
            "image/png": "[encoded data removed]",
            "text/plain": [
              "<Figure size 1296x432 with 5 Axes>"
            ]
          },
          "metadata": {
            "needs_background": "light"
          }
        }
      ]
    },
    {
      "cell_type": "markdown",
      "metadata": {
        "id": "j0ap1wzDlTsG"
      },
      "source": [
        "**¿Es mayor el número de accidentes en diferentes momentos en diferentes distritos? ¿Deberíamos concentrarnos en diferentes momentos para cada municipio?**"
      ]
    },
    {
      "cell_type": "markdown",
      "metadata": {
        "id": "QAqHq24DlTsG"
      },
      "source": [
        "Se encuentra diferencia entre cada municipio, En Queens y Brooklyn se evidencia el mayor indice de accidental diferencia de Staten Island y Manhattan que tienen el menor indice de accidentes; Se debe analizar bien cada municipio y la hora para obtener resultados confiables.\n",
        "\n",
        "\n"
      ]
    },
    {
      "cell_type": "markdown",
      "metadata": {
        "id": "xWERZMHwlTsG"
      },
      "source": [
        "### Ejercicio 9 \n",
        "\n",
        "¿Qué factores provocan la mayoría de los accidentes? Evite contar dos veces los factores que contribuyen a un solo accidente.\n",
        "\n",
        "**Sugerencia:** Una forma de lidiar con las repeticiones es concatenar las columnas correspondientes conservando sus índices, puede hacerlo con las funciones ```pd.concat()``` y ```reset_index()```. Luego, use un ```group_by``` apropiado para contar el número de repeticiones de factores contribuidos por accidente."
      ]
    },
    {
      "cell_type": "markdown",
      "metadata": {
        "id": "shLwJLd9lTsG"
      },
      "source": [
        "**Respuesta**.\n"
      ]
    },
    {
      "cell_type": "code",
      "metadata": {
        "id": "RMpDExuFlTsG",
        "colab": {
          "base_uri": "https://localhost:8080/",
          "height": 410
        },
        "outputId": "1c4d6c03-84b7-4c51-f702-d50970fc2f96"
      },
      "source": [
        "factores=df.groupby(['BOROUGH','CONTRIBUTING FACTOR VEHICLE 1', 'CONTRIBUTING FACTOR VEHICLE 2', 'CONTRIBUTING FACTOR VEHICLE 3','CONTRIBUTING FACTOR VEHICLE 4','CONTRIBUTING FACTOR VEHICLE 5']).size()\n",
        "factores.reset_index()"
      ],
      "execution_count": 39,
      "outputs": [
        {
          "output_type": "execute_result",
          "data": {
            "text/html": [
              "<div>\n",
              "<style scoped>\n",
              "    .dataframe tbody tr th:only-of-type {\n",
              "        vertical-align: middle;\n",
              "    }\n",
              "\n",
              "    .dataframe tbody tr th {\n",
              "        vertical-align: top;\n",
              "    }\n",
              "\n",
              "    .dataframe thead th {\n",
              "        text-align: right;\n",
              "    }\n",
              "</style>\n",
              "<table border=\"1\" class=\"dataframe\">\n",
              "  <thead>\n",
              "    <tr style=\"text-align: right;\">\n",
              "      <th></th>\n",
              "      <th>BOROUGH</th>\n",
              "      <th>CONTRIBUTING FACTOR VEHICLE 1</th>\n",
              "      <th>CONTRIBUTING FACTOR VEHICLE 2</th>\n",
              "      <th>CONTRIBUTING FACTOR VEHICLE 3</th>\n",
              "      <th>CONTRIBUTING FACTOR VEHICLE 4</th>\n",
              "      <th>CONTRIBUTING FACTOR VEHICLE 5</th>\n",
              "      <th>0</th>\n",
              "    </tr>\n",
              "  </thead>\n",
              "  <tbody>\n",
              "    <tr>\n",
              "      <th>0</th>\n",
              "      <td>BRONX</td>\n",
              "      <td>Accelerator Defective</td>\n",
              "      <td>Unspecified</td>\n",
              "      <td>Unspecified</td>\n",
              "      <td>Unspecified</td>\n",
              "      <td>Unspecified</td>\n",
              "      <td>1</td>\n",
              "    </tr>\n",
              "    <tr>\n",
              "      <th>1</th>\n",
              "      <td>BRONX</td>\n",
              "      <td>Aggressive Driving/Road Rage</td>\n",
              "      <td>Unspecified</td>\n",
              "      <td>Unspecified</td>\n",
              "      <td>Unspecified</td>\n",
              "      <td>Unspecified</td>\n",
              "      <td>3</td>\n",
              "    </tr>\n",
              "    <tr>\n",
              "      <th>2</th>\n",
              "      <td>BRONX</td>\n",
              "      <td>Alcohol Involvement</td>\n",
              "      <td>Other Vehicular</td>\n",
              "      <td>Other Vehicular</td>\n",
              "      <td>Other Vehicular</td>\n",
              "      <td>Other Vehicular</td>\n",
              "      <td>1</td>\n",
              "    </tr>\n",
              "    <tr>\n",
              "      <th>3</th>\n",
              "      <td>BRONX</td>\n",
              "      <td>Alcohol Involvement</td>\n",
              "      <td>Unspecified</td>\n",
              "      <td>Unspecified</td>\n",
              "      <td>Unspecified</td>\n",
              "      <td>Unspecified</td>\n",
              "      <td>17</td>\n",
              "    </tr>\n",
              "    <tr>\n",
              "      <th>4</th>\n",
              "      <td>BRONX</td>\n",
              "      <td>Backing Unsafely</td>\n",
              "      <td>Unspecified</td>\n",
              "      <td>Unspecified</td>\n",
              "      <td>Unspecified</td>\n",
              "      <td>Unspecified</td>\n",
              "      <td>5</td>\n",
              "    </tr>\n",
              "    <tr>\n",
              "      <th>...</th>\n",
              "      <td>...</td>\n",
              "      <td>...</td>\n",
              "      <td>...</td>\n",
              "      <td>...</td>\n",
              "      <td>...</td>\n",
              "      <td>...</td>\n",
              "      <td>...</td>\n",
              "    </tr>\n",
              "    <tr>\n",
              "      <th>192</th>\n",
              "      <td>STATEN ISLAND</td>\n",
              "      <td>Passing or Lane Usage Improper</td>\n",
              "      <td>Unspecified</td>\n",
              "      <td>Unspecified</td>\n",
              "      <td>Unspecified</td>\n",
              "      <td>Unspecified</td>\n",
              "      <td>1</td>\n",
              "    </tr>\n",
              "    <tr>\n",
              "      <th>193</th>\n",
              "      <td>STATEN ISLAND</td>\n",
              "      <td>Reaction to Uninvolved Vehicle</td>\n",
              "      <td>Unspecified</td>\n",
              "      <td>Unspecified</td>\n",
              "      <td>Unspecified</td>\n",
              "      <td>Unspecified</td>\n",
              "      <td>1</td>\n",
              "    </tr>\n",
              "    <tr>\n",
              "      <th>194</th>\n",
              "      <td>STATEN ISLAND</td>\n",
              "      <td>Turning Improperly</td>\n",
              "      <td>Unspecified</td>\n",
              "      <td>Unspecified</td>\n",
              "      <td>Unspecified</td>\n",
              "      <td>Unspecified</td>\n",
              "      <td>1</td>\n",
              "    </tr>\n",
              "    <tr>\n",
              "      <th>195</th>\n",
              "      <td>STATEN ISLAND</td>\n",
              "      <td>Unsafe Speed</td>\n",
              "      <td>Unspecified</td>\n",
              "      <td>Unspecified</td>\n",
              "      <td>Unspecified</td>\n",
              "      <td>Unspecified</td>\n",
              "      <td>4</td>\n",
              "    </tr>\n",
              "    <tr>\n",
              "      <th>196</th>\n",
              "      <td>STATEN ISLAND</td>\n",
              "      <td>Unspecified</td>\n",
              "      <td>Unspecified</td>\n",
              "      <td>Unspecified</td>\n",
              "      <td>Unspecified</td>\n",
              "      <td>Unspecified</td>\n",
              "      <td>3</td>\n",
              "    </tr>\n",
              "  </tbody>\n",
              "</table>\n",
              "<p>197 rows × 7 columns</p>\n",
              "</div>"
            ],
            "text/plain": [
              "           BOROUGH  ...   0\n",
              "0            BRONX  ...   1\n",
              "1            BRONX  ...   3\n",
              "2            BRONX  ...   1\n",
              "3            BRONX  ...  17\n",
              "4            BRONX  ...   5\n",
              "..             ...  ...  ..\n",
              "192  STATEN ISLAND  ...   1\n",
              "193  STATEN ISLAND  ...   1\n",
              "194  STATEN ISLAND  ...   1\n",
              "195  STATEN ISLAND  ...   4\n",
              "196  STATEN ISLAND  ...   3\n",
              "\n",
              "[197 rows x 7 columns]"
            ]
          },
          "metadata": {},
          "execution_count": 39
        }
      ]
    },
    {
      "cell_type": "code",
      "metadata": {
        "colab": {
          "base_uri": "https://localhost:8080/",
          "height": 607
        },
        "id": "2vEg9OVfM8DH",
        "outputId": "d2ab5dfc-d30a-4498-e197-386f2ff5da61"
      },
      "source": [
        "fact_accidentes.plot.bar(figsize=(15,5))\n",
        "#plt.figure(figsize=(100,100))"
      ],
      "execution_count": 47,
      "outputs": [
        {
          "output_type": "execute_result",
          "data": {
            "text/plain": [
              "<matplotlib.axes._subplots.AxesSubplot at 0x7f05e7d49890>"
            ]
          },
          "metadata": {},
          "execution_count": 47
        },
        {
          "output_type": "display_data",
          "data": {
            "image/png": "[encoded data removed]",
            "text/plain": [
              "<Figure size 1080x360 with 1 Axes>"
            ]
          },
          "metadata": {
            "needs_background": "light"
          }
        }
      ]
    },
    {
      "cell_type": "markdown",
      "metadata": {
        "id": "siZ5Y0zNlTsH"
      },
      "source": [
        "### Ejercicio 10 \n",
        "\n",
        "¿Qué tipos de vehículos están más involucrados en accidentes por municipio? Evite contar dos veces el tipo de vehículos presentes en un solo accidente.\n",
        "\n",
        "**Sugerencia:** Puede aplicar un enfoque similar al utilizado en la pregunta anterior."
      ]
    },
    {
      "cell_type": "markdown",
      "metadata": {
        "id": "CcL4ApWylTsH"
      },
      "source": [
        "**Respuesta.** "
      ]
    },
    {
      "cell_type": "code",
      "metadata": {
        "id": "vemLjsLvlTsH",
        "colab": {
          "base_uri": "https://localhost:8080/"
        },
        "outputId": "e5fedb1c-50a2-4119-df22-f2214e39912f"
      },
      "source": [
        "tipo1 = df[['BOROUGH', 'VEHICLE TYPE CODE 1']] \n",
        "tipo2 = df[['BOROUGH', 'VEHICLE TYPE CODE 2']]\n",
        "tipo3 = df[['BOROUGH', 'VEHICLE TYPE CODE 3']]\n",
        "tipo4 = df[['BOROUGH', 'VEHICLE TYPE CODE 4']]\n",
        "tipo5 = df[['BOROUGH', 'VEHICLE TYPE CODE 5']]\n",
        "tipo1.columns = ['BOROUGH', 'VEHICLE']\n",
        "tipo2.columns = ['BOROUGH', 'VEHICLE']\n",
        "tipo3.columns = ['BOROUGH', 'VEHICLE']\n",
        "tipo4.columns = ['BOROUGH', 'VEHICLE']\n",
        "tipo5.columns = ['BOROUGH', 'VEHICLE']\n",
        "dfVehiculosMunicipios = pd.concat([tipo1, tipo2, tipo3, tipo4, tipo5]).reset_index()\n",
        "dfVehiculosMunicipios.columns = ['INDEX', 'BOROUGH', 'VEHICLE']\n",
        "dfMunicipioVeh = dfVehiculosMunicipios.groupby(by= ['BOROUGH', 'VEHICLE'])['INDEX'].unique()\n",
        "print(dfMunicipioVeh, dfVehiculosMunicipios)"
      ],
      "execution_count": 57,
      "outputs": [
        {
          "output_type": "stream",
          "name": "stdout",
          "text": [
            "BOROUGH        VEHICLE\n",
            "BRONX          3-Door     [39902, 62912, 63162, 81374, 82406, 90223, 991...\n",
            "               38AB-                                                [99931]\n",
            "               3D                                  [190881, 216463, 218653]\n",
            "               ACCES                                         [21231, 56743]\n",
            "               AM         [181854, 186680, 188266, 190337, 191632, 19399...\n",
            "                                                ...                        \n",
            "STATEN ISLAND  trail                                 [134405, 182358, 6540]\n",
            "               truck                                                 [7980]\n",
            "               unkno                                       [131774, 234230]\n",
            "               usps                                                [152217]\n",
            "               van t                                                 [8481]\n",
            "Name: INDEX, Length: 1370, dtype: object           INDEX   BOROUGH VEHICLE\n",
            "0             0     BRONX   Sedan\n",
            "1             1  BROOKLYN   Sedan\n",
            "2             2    QUEENS   Sedan\n",
            "3             3    QUEENS    Bike\n",
            "4             4     BRONX   Sedan\n",
            "...         ...       ...     ...\n",
            "1192605  238517    QUEENS     NaN\n",
            "1192606  238518     BRONX     NaN\n",
            "1192607  238519     BRONX     NaN\n",
            "1192608  238520    QUEENS     NaN\n",
            "1192609  238521  BROOKLYN     NaN\n",
            "\n",
            "[1192610 rows x 3 columns]\n"
          ]
        }
      ]
    },
    {
      "cell_type": "markdown",
      "metadata": {
        "id": "rVD_N5CClTsH"
      },
      "source": [
        ""
      ]
    },
    {
      "cell_type": "markdown",
      "metadata": {
        "id": "kymtt3uclTsH"
      },
      "source": [
        "### Ejercicio 11 \n",
        "\n",
        "En 2018 para una [entrevista](https://www.nytimes.com/2019/01/01/nyregion/traffic-deaths-decrease-nyc.html) con The New York Times, el alcalde de Blasio de Nueva York declaró que *'Vision Zero está funcionando claramente'*. Ese año, el número de muertes en accidentes de tráfico en Nueva York se redujo a un histórico 202. Sin embargo, según lo informado por [am New York Metro](https://www.amny.com/news/vision-zero-de-blasio- 1-30707464 /), el número de víctimas mortales ha aumentado un 30% en el primer trimestre de 2019 en comparación con el año anterior y el número de peatones y ciclistas heridos no ha experimentado ninguna mejora.\n",
        "\n",
        "¿Cómo utilizaría los datos proporcionados para comprender qué salió mal en el primer trimestre de 2019?\n",
        "\n",
        "\n",
        "> - [ ] Considere los accidentes del primer trimestre de 2019. Luego, busque las causas más comunes de accidentes en los que estuvieron involucrados peatones y ciclistas. Dé una recomendación basada únicamente en esta información.\n",
        "\n",
        "> - [ ] Cree un par de mapas de calor de los accidentes que involucraron a peatones y ciclistas lesionados / muertos en el primer trimestre de 2018 y 2019. Compare estos dos para ver si hay algún cambio en la concentración de accidentes. En áreas críticas, estudie el tipo de factores involucrados en los accidentes. Dé una recomendación para visitar estas áreas para estudiar más el problema.   \n",
        "\n",
        "> - [ ] Los datos proporcionados son insuficientes para mejorar nuestra comprensión de la situación.\n",
        "\n",
        "> - [ ] Ninguna de las anteriores. Haría lo siguiente: *aquí tu respuesta recomendada*."
      ]
    },
    {
      "cell_type": "markdown",
      "metadata": {
        "id": "bZOqitSWlTsH"
      },
      "source": [
        "**Respuesta.**\n"
      ]
    },
    {
      "cell_type": "code",
      "metadata": {
        "id": "MXh2U6cnlTsH"
      },
      "source": [
        ""
      ],
      "execution_count": null,
      "outputs": []
    },
    {
      "cell_type": "markdown",
      "metadata": {
        "id": "V0-V81IClTsH"
      },
      "source": [
        "### Ejercicio 12 \n",
        "\n",
        "Calcula el número de muertes provocadas por cada tipo de vehículo. Trace un gráfico de barras para los 5 vehículos principales. ¿Qué vehículos están involucrados con mayor frecuencia en las muertes y cuánto más que los demás?\n",
        "\n",
        "**Por ejemplo,** si dos personas murieron en un accidente en el que estuvieron involucrados 5 vehículos: 4 son VEHÍCULOS DE PASAJEROS y 1 es un VAGÓN DEPORTIVO / ESTACIÓN. Luego, agregaríamos dos muertes a cada tipo de VEHÍCULO DE PASAJEROS y VAGÓN DE ESTACIÓN / SERVICIO DEPORTIVO.\n",
        "\n",
        "**Sugerencia:** Es posible que desee crear una nueva columna con el número total de muertes en el accidente. Para eso, puede encontrar útil la función ```.to_numpy()```. Luego, proceda como los ejercicios anteriores para evitar contabilizar dos veces el tipo de vehículos."
      ]
    },
    {
      "cell_type": "markdown",
      "metadata": {
        "id": "Y6YEGF9ElTsI"
      },
      "source": [
        "**Repsuesta.**"
      ]
    },
    {
      "cell_type": "code",
      "metadata": {
        "id": "iOvEFn3hlTsI"
      },
      "source": [
        ""
      ],
      "execution_count": null,
      "outputs": []
    },
    {
      "cell_type": "markdown",
      "metadata": {
        "id": "b12r_fxSlTsI"
      },
      "source": [
        ""
      ]
    },
    {
      "cell_type": "code",
      "metadata": {
        "id": "-s9-vhjwlTsI"
      },
      "source": [
        ""
      ],
      "execution_count": null,
      "outputs": []
    },
    {
      "cell_type": "markdown",
      "metadata": {
        "id": "L6ueUOeklTsI"
      },
      "source": [
        ""
      ]
    }
  ]
}