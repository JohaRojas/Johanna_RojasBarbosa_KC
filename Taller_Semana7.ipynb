{
  "nbformat": 4,
  "nbformat_minor": 0,
  "metadata": {
    "colab": {
      "name": "Taller_Semana7.ipynb",
      "provenance": [],
      "collapsed_sections": [],
      "include_colab_link": true
    },
    "kernelspec": {
      "name": "python3",
      "display_name": "Python 3"
    },
    "language_info": {
      "name": "python"
    }
  },
  "cells": [
    {
      "cell_type": "markdown",
      "metadata": {
        "id": "view-in-github",
        "colab_type": "text"
      },
      "source": [
        "<a href=\"https://colab.research.google.com/github/JohaRojas/Johanna_RojasBarbosa_KC/blob/main/Taller_Semana7.ipynb\" target=\"_parent\"><img src=\"https://colab.research.google.com/assets/colab-badge.svg\" alt=\"Open In Colab\"/></a>"
      ]
    },
    {
      "cell_type": "markdown",
      "metadata": {
        "id": "_XdStMJC3YKy"
      },
      "source": [
        "# Taller"
      ]
    },
    {
      "cell_type": "markdown",
      "metadata": {
        "id": "px8RICN734sq"
      },
      "source": [
        "## Recapitulando clustering\n",
        "- Crear una matriz de distancia usando criterio de enlace\n",
        "    - ```method```: como calcular la proximidad de los clusters\n",
        "    - ```metric```: metrica de distancia\n",
        "    - ```optimal_ordering```: Orden de los puntos \n",
        "- Tipos de method\n",
        "    - single: basado en los 2 objetos mas cercanos\n",
        "    - complete: basado en los dos objetos mas lejanos \n",
        "    - average: basado en la media aritmetica de todos los objetos \n",
        "    - centroids: basado en la media geometrica de todos los objetos \n",
        "    - median: basado en la median de todos los objetos \n",
        "    - ward: basado en la suma de cuadrado "
      ]
    },
    {
      "cell_type": "markdown",
      "metadata": {
        "id": "_I17e45Y6XrZ"
      },
      "source": [
        "# Agrupación en el conjunto de datos del vehículo\n",
        "\n",
        "Imagine que un fabricante de automóviles ha desarrollado prototipos para un vehículo nuevo. Antes de introducir el nuevo modelo en su gama, el fabricante quiere determinar qué vehículos existentes en el mercado se parecen más a los prototipos, es decir, cómo se pueden agrupar los vehículos, qué grupo es el más similar al modelo y, por tanto, qué modelos. estarán compitiendo contra ellos.\n",
        "\n",
        "Nuestro objetivo aquí es utilizar métodos de agrupamiento para encontrar los grupos de vehículos más distintivos. Resumirá los vehículos existentes y ayudará a la fabricación a tomar decisiones sobre nuevos modelos de forma sencilla."
      ]
    },
    {
      "cell_type": "markdown",
      "metadata": {
        "id": "oKu5Qhtf6gSZ"
      },
      "source": [
        "### Descargar datos\n",
        "Para descargar los datos, usaremos **`!wget`**. Estos datos se encuentran alojado en una API: IBM Object Storage.\n",
        "__ ¿Lo sabían? __ Cuando se trata de aprendizaje automático, es probable que trabaje con grandes conjuntos de datos. Como empresa, ¿dónde puede alojar sus datos? IBM ofrece una oportunidad única para las empresas, con 10 Tb de IBM Cloud Object Storage: [Pueden registrarse aqui](http://cocl.us/ML0101EN-IBM-Offer-CC)"
      ]
    },
    {
      "cell_type": "code",
      "metadata": {
        "colab": {
          "base_uri": "https://localhost:8080/"
        },
        "id": "4BOVSiNP60UX",
        "outputId": "7a176646-136d-4b91-9c08-1a44da3b6d22"
      },
      "source": [
        "!wget -O cars_clus.csv https://s3-api.us-geo.objectstorage.softlayer.net/cf-courses-data/CognitiveClass/ML0101ENv3/labs/cars_clus.csv"
      ],
      "execution_count": null,
      "outputs": [
        {
          "output_type": "stream",
          "name": "stdout",
          "text": [
            "--2021-09-23 20:08:10--  https://s3-api.us-geo.objectstorage.softlayer.net/cf-courses-data/CognitiveClass/ML0101ENv3/labs/cars_clus.csv\n",
            "Resolving s3-api.us-geo.objectstorage.softlayer.net (s3-api.us-geo.objectstorage.softlayer.net)... 67.228.254.196\n",
            "Connecting to s3-api.us-geo.objectstorage.softlayer.net (s3-api.us-geo.objectstorage.softlayer.net)|67.228.254.196|:443... connected.\n",
            "HTTP request sent, awaiting response... 200 OK\n",
            "Length: 17774 (17K) [text/csv]\n",
            "Saving to: ‘cars_clus.csv’\n",
            "\n",
            "cars_clus.csv       100%[===================>]  17.36K  --.-KB/s    in 0s      \n",
            "\n",
            "2021-09-23 20:08:11 (105 MB/s) - ‘cars_clus.csv’ saved [17774/17774]\n",
            "\n"
          ]
        }
      ]
    },
    {
      "cell_type": "code",
      "metadata": {
        "id": "zg87xYEgRsQr"
      },
      "source": [
        "import numpy as np\n",
        "import pandas as pd"
      ],
      "execution_count": null,
      "outputs": []
    },
    {
      "cell_type": "markdown",
      "metadata": {
        "id": "2Omvu1rE62W0"
      },
      "source": [
        "# Leer los datos"
      ]
    },
    {
      "cell_type": "code",
      "metadata": {
        "colab": {
          "base_uri": "https://localhost:8080/",
          "height": 216
        },
        "id": "HswW3Ygn63Xt",
        "outputId": "7d1cda99-f7a0-4edd-e0b6-65f36bb27d80"
      },
      "source": [
        "filename = 'cars_clus.csv'\n",
        "#Lectura\n",
        "pdf = pd.read_csv(filename)\n",
        "print (\"Shape: \", pdf.shape)\n",
        "pdf.head(5)"
      ],
      "execution_count": null,
      "outputs": [
        {
          "output_type": "stream",
          "name": "stdout",
          "text": [
            "Shape:  (159, 16)\n"
          ]
        },
        {
          "output_type": "execute_result",
          "data": {
            "text/html": [
              "<div>\n",
              "<style scoped>\n",
              "    .dataframe tbody tr th:only-of-type {\n",
              "        vertical-align: middle;\n",
              "    }\n",
              "\n",
              "    .dataframe tbody tr th {\n",
              "        vertical-align: top;\n",
              "    }\n",
              "\n",
              "    .dataframe thead th {\n",
              "        text-align: right;\n",
              "    }\n",
              "</style>\n",
              "<table border=\"1\" class=\"dataframe\">\n",
              "  <thead>\n",
              "    <tr style=\"text-align: right;\">\n",
              "      <th></th>\n",
              "      <th>manufact</th>\n",
              "      <th>model</th>\n",
              "      <th>sales</th>\n",
              "      <th>resale</th>\n",
              "      <th>type</th>\n",
              "      <th>price</th>\n",
              "      <th>engine_s</th>\n",
              "      <th>horsepow</th>\n",
              "      <th>wheelbas</th>\n",
              "      <th>width</th>\n",
              "      <th>length</th>\n",
              "      <th>curb_wgt</th>\n",
              "      <th>fuel_cap</th>\n",
              "      <th>mpg</th>\n",
              "      <th>lnsales</th>\n",
              "      <th>partition</th>\n",
              "    </tr>\n",
              "  </thead>\n",
              "  <tbody>\n",
              "    <tr>\n",
              "      <th>0</th>\n",
              "      <td>Acura</td>\n",
              "      <td>Integra</td>\n",
              "      <td>16.919</td>\n",
              "      <td>16.360</td>\n",
              "      <td>0.000</td>\n",
              "      <td>21.500</td>\n",
              "      <td>1.800</td>\n",
              "      <td>140.000</td>\n",
              "      <td>101.200</td>\n",
              "      <td>67.300</td>\n",
              "      <td>172.400</td>\n",
              "      <td>2.639</td>\n",
              "      <td>13.200</td>\n",
              "      <td>28.000</td>\n",
              "      <td>2.828</td>\n",
              "      <td>0.0</td>\n",
              "    </tr>\n",
              "    <tr>\n",
              "      <th>1</th>\n",
              "      <td>Acura</td>\n",
              "      <td>TL</td>\n",
              "      <td>39.384</td>\n",
              "      <td>19.875</td>\n",
              "      <td>0.000</td>\n",
              "      <td>28.400</td>\n",
              "      <td>3.200</td>\n",
              "      <td>225.000</td>\n",
              "      <td>108.100</td>\n",
              "      <td>70.300</td>\n",
              "      <td>192.900</td>\n",
              "      <td>3.517</td>\n",
              "      <td>17.200</td>\n",
              "      <td>25.000</td>\n",
              "      <td>3.673</td>\n",
              "      <td>0.0</td>\n",
              "    </tr>\n",
              "    <tr>\n",
              "      <th>2</th>\n",
              "      <td>Acura</td>\n",
              "      <td>CL</td>\n",
              "      <td>14.114</td>\n",
              "      <td>18.225</td>\n",
              "      <td>0.000</td>\n",
              "      <td>$null$</td>\n",
              "      <td>3.200</td>\n",
              "      <td>225.000</td>\n",
              "      <td>106.900</td>\n",
              "      <td>70.600</td>\n",
              "      <td>192.000</td>\n",
              "      <td>3.470</td>\n",
              "      <td>17.200</td>\n",
              "      <td>26.000</td>\n",
              "      <td>2.647</td>\n",
              "      <td>0.0</td>\n",
              "    </tr>\n",
              "    <tr>\n",
              "      <th>3</th>\n",
              "      <td>Acura</td>\n",
              "      <td>RL</td>\n",
              "      <td>8.588</td>\n",
              "      <td>29.725</td>\n",
              "      <td>0.000</td>\n",
              "      <td>42.000</td>\n",
              "      <td>3.500</td>\n",
              "      <td>210.000</td>\n",
              "      <td>114.600</td>\n",
              "      <td>71.400</td>\n",
              "      <td>196.600</td>\n",
              "      <td>3.850</td>\n",
              "      <td>18.000</td>\n",
              "      <td>22.000</td>\n",
              "      <td>2.150</td>\n",
              "      <td>0.0</td>\n",
              "    </tr>\n",
              "    <tr>\n",
              "      <th>4</th>\n",
              "      <td>Audi</td>\n",
              "      <td>A4</td>\n",
              "      <td>20.397</td>\n",
              "      <td>22.255</td>\n",
              "      <td>0.000</td>\n",
              "      <td>23.990</td>\n",
              "      <td>1.800</td>\n",
              "      <td>150.000</td>\n",
              "      <td>102.600</td>\n",
              "      <td>68.200</td>\n",
              "      <td>178.000</td>\n",
              "      <td>2.998</td>\n",
              "      <td>16.400</td>\n",
              "      <td>27.000</td>\n",
              "      <td>3.015</td>\n",
              "      <td>0.0</td>\n",
              "    </tr>\n",
              "  </tbody>\n",
              "</table>\n",
              "</div>"
            ],
            "text/plain": [
              "  manufact    model   sales  resale  ... fuel_cap     mpg lnsales partition\n",
              "0    Acura  Integra  16.919  16.360  ...   13.200  28.000   2.828       0.0\n",
              "1    Acura       TL  39.384  19.875  ...   17.200  25.000   3.673       0.0\n",
              "2    Acura       CL  14.114  18.225  ...   17.200  26.000   2.647       0.0\n",
              "3    Acura       RL   8.588  29.725  ...   18.000  22.000   2.150       0.0\n",
              "4     Audi       A4  20.397  22.255  ...   16.400  27.000   3.015       0.0\n",
              "\n",
              "[5 rows x 16 columns]"
            ]
          },
          "metadata": {},
          "execution_count": 4
        }
      ]
    },
    {
      "cell_type": "markdown",
      "metadata": {
        "id": "oQdUbWNn68_H"
      },
      "source": [
        "Los features incluyen:\n",
        "- price en thousands (price)\n",
        "- engine size (engine_s)\n",
        "- horsepower (horsepow)\n",
        "- wheelbase (wheelbas)\n",
        "- width (width)\n",
        "- length (length)\n",
        "- curb weight (curb_wgt)\n",
        "- fuel capacity (fuel_cap) \n",
        "- fuel efficiency (mpg)."
      ]
    },
    {
      "cell_type": "markdown",
      "metadata": {
        "id": "rQ7dAfcq7MFz"
      },
      "source": [
        "# Data cleaning\n",
        "\n",
        "1. Observando el proceso que se observa en el codigo de abajo que pueden concluir de que se realizo ?"
      ]
    },
    {
      "cell_type": "code",
      "metadata": {
        "colab": {
          "base_uri": "https://localhost:8080/",
          "height": 232
        },
        "id": "K61VsBzl7NKV",
        "outputId": "4bf221d6-f209-4c85-ee8e-f6ff1e27e721"
      },
      "source": [
        "print (\"Shape antes de cleaning: \", pdf.shape)\n",
        "pdf[[ 'sales', 'resale', 'type', 'price', 'engine_s',\n",
        "       'horsepow', 'wheelbas', 'width', 'length', 'curb_wgt', 'fuel_cap',\n",
        "       'mpg', 'lnsales']] = pdf[['sales', 'resale', 'type', 'price', 'engine_s',\n",
        "       'horsepow', 'wheelbas', 'width', 'length', 'curb_wgt', 'fuel_cap',\n",
        "       'mpg', 'lnsales']].apply(pd.to_numeric, errors='coerce')\n",
        "pdf = pdf.dropna()\n",
        "pdf = pdf.reset_index(drop=True)\n",
        "print (\"Shape despues de cleaning: \", pdf.shape)\n",
        "pdf.head(5)"
      ],
      "execution_count": null,
      "outputs": [
        {
          "output_type": "stream",
          "name": "stdout",
          "text": [
            "Shape antes de cleaning:  (117, 16)\n",
            "Shape despues de cleaning:  (117, 16)\n"
          ]
        },
        {
          "output_type": "execute_result",
          "data": {
            "text/html": [
              "<div>\n",
              "<style scoped>\n",
              "    .dataframe tbody tr th:only-of-type {\n",
              "        vertical-align: middle;\n",
              "    }\n",
              "\n",
              "    .dataframe tbody tr th {\n",
              "        vertical-align: top;\n",
              "    }\n",
              "\n",
              "    .dataframe thead th {\n",
              "        text-align: right;\n",
              "    }\n",
              "</style>\n",
              "<table border=\"1\" class=\"dataframe\">\n",
              "  <thead>\n",
              "    <tr style=\"text-align: right;\">\n",
              "      <th></th>\n",
              "      <th>manufact</th>\n",
              "      <th>model</th>\n",
              "      <th>sales</th>\n",
              "      <th>resale</th>\n",
              "      <th>type</th>\n",
              "      <th>price</th>\n",
              "      <th>engine_s</th>\n",
              "      <th>horsepow</th>\n",
              "      <th>wheelbas</th>\n",
              "      <th>width</th>\n",
              "      <th>length</th>\n",
              "      <th>curb_wgt</th>\n",
              "      <th>fuel_cap</th>\n",
              "      <th>mpg</th>\n",
              "      <th>lnsales</th>\n",
              "      <th>partition</th>\n",
              "    </tr>\n",
              "  </thead>\n",
              "  <tbody>\n",
              "    <tr>\n",
              "      <th>0</th>\n",
              "      <td>Acura</td>\n",
              "      <td>Integra</td>\n",
              "      <td>16.919</td>\n",
              "      <td>16.360</td>\n",
              "      <td>0.0</td>\n",
              "      <td>21.50</td>\n",
              "      <td>1.8</td>\n",
              "      <td>140.0</td>\n",
              "      <td>101.2</td>\n",
              "      <td>67.3</td>\n",
              "      <td>172.4</td>\n",
              "      <td>2.639</td>\n",
              "      <td>13.2</td>\n",
              "      <td>28.0</td>\n",
              "      <td>2.828</td>\n",
              "      <td>0.0</td>\n",
              "    </tr>\n",
              "    <tr>\n",
              "      <th>1</th>\n",
              "      <td>Acura</td>\n",
              "      <td>TL</td>\n",
              "      <td>39.384</td>\n",
              "      <td>19.875</td>\n",
              "      <td>0.0</td>\n",
              "      <td>28.40</td>\n",
              "      <td>3.2</td>\n",
              "      <td>225.0</td>\n",
              "      <td>108.1</td>\n",
              "      <td>70.3</td>\n",
              "      <td>192.9</td>\n",
              "      <td>3.517</td>\n",
              "      <td>17.2</td>\n",
              "      <td>25.0</td>\n",
              "      <td>3.673</td>\n",
              "      <td>0.0</td>\n",
              "    </tr>\n",
              "    <tr>\n",
              "      <th>2</th>\n",
              "      <td>Acura</td>\n",
              "      <td>RL</td>\n",
              "      <td>8.588</td>\n",
              "      <td>29.725</td>\n",
              "      <td>0.0</td>\n",
              "      <td>42.00</td>\n",
              "      <td>3.5</td>\n",
              "      <td>210.0</td>\n",
              "      <td>114.6</td>\n",
              "      <td>71.4</td>\n",
              "      <td>196.6</td>\n",
              "      <td>3.850</td>\n",
              "      <td>18.0</td>\n",
              "      <td>22.0</td>\n",
              "      <td>2.150</td>\n",
              "      <td>0.0</td>\n",
              "    </tr>\n",
              "    <tr>\n",
              "      <th>3</th>\n",
              "      <td>Audi</td>\n",
              "      <td>A4</td>\n",
              "      <td>20.397</td>\n",
              "      <td>22.255</td>\n",
              "      <td>0.0</td>\n",
              "      <td>23.99</td>\n",
              "      <td>1.8</td>\n",
              "      <td>150.0</td>\n",
              "      <td>102.6</td>\n",
              "      <td>68.2</td>\n",
              "      <td>178.0</td>\n",
              "      <td>2.998</td>\n",
              "      <td>16.4</td>\n",
              "      <td>27.0</td>\n",
              "      <td>3.015</td>\n",
              "      <td>0.0</td>\n",
              "    </tr>\n",
              "    <tr>\n",
              "      <th>4</th>\n",
              "      <td>Audi</td>\n",
              "      <td>A6</td>\n",
              "      <td>18.780</td>\n",
              "      <td>23.555</td>\n",
              "      <td>0.0</td>\n",
              "      <td>33.95</td>\n",
              "      <td>2.8</td>\n",
              "      <td>200.0</td>\n",
              "      <td>108.7</td>\n",
              "      <td>76.1</td>\n",
              "      <td>192.0</td>\n",
              "      <td>3.561</td>\n",
              "      <td>18.5</td>\n",
              "      <td>22.0</td>\n",
              "      <td>2.933</td>\n",
              "      <td>0.0</td>\n",
              "    </tr>\n",
              "  </tbody>\n",
              "</table>\n",
              "</div>"
            ],
            "text/plain": [
              "  manufact    model   sales  resale  ...  fuel_cap   mpg  lnsales  partition\n",
              "0    Acura  Integra  16.919  16.360  ...      13.2  28.0    2.828        0.0\n",
              "1    Acura       TL  39.384  19.875  ...      17.2  25.0    3.673        0.0\n",
              "2    Acura       RL   8.588  29.725  ...      18.0  22.0    2.150        0.0\n",
              "3     Audi       A4  20.397  22.255  ...      16.4  27.0    3.015        0.0\n",
              "4     Audi       A6  18.780  23.555  ...      18.5  22.0    2.933        0.0\n",
              "\n",
              "[5 rows x 16 columns]"
            ]
          },
          "metadata": {},
          "execution_count": 6
        }
      ]
    },
    {
      "cell_type": "markdown",
      "metadata": {
        "id": "IGYvia5xL5c2"
      },
      "source": [
        "**Respuesta**\n",
        "\n",
        "R//Imprime columnas, hace cambios a númericos,se eliminan filas con datos Null, se termina organizando el index."
      ]
    },
    {
      "cell_type": "markdown",
      "metadata": {
        "id": "uIR45snO7cPF"
      },
      "source": [
        "# Feature selection\n",
        "\n",
        "2. Seleccionar las columnas ``engine_s,  horsepow, wheelbas, width, lenght, curb_wgt, fuel_cap y mpg`` y guardarlas en el dataset ``featureset``"
      ]
    },
    {
      "cell_type": "code",
      "metadata": {
        "id": "Q9dAzNHAMbia",
        "colab": {
          "base_uri": "https://localhost:8080/",
          "height": 199
        },
        "outputId": "aad0f7db-2fb4-4fe2-a3e5-adcd00c79989"
      },
      "source": [
        "featureset = pdf[['engine_s','wheelbas','width','length','curb_wgt','fuel_cap','mpg']]\n",
        "featureset.head(5)"
      ],
      "execution_count": 8,
      "outputs": [
        {
          "output_type": "execute_result",
          "data": {
            "text/html": [
              "<div>\n",
              "<style scoped>\n",
              "    .dataframe tbody tr th:only-of-type {\n",
              "        vertical-align: middle;\n",
              "    }\n",
              "\n",
              "    .dataframe tbody tr th {\n",
              "        vertical-align: top;\n",
              "    }\n",
              "\n",
              "    .dataframe thead th {\n",
              "        text-align: right;\n",
              "    }\n",
              "</style>\n",
              "<table border=\"1\" class=\"dataframe\">\n",
              "  <thead>\n",
              "    <tr style=\"text-align: right;\">\n",
              "      <th></th>\n",
              "      <th>engine_s</th>\n",
              "      <th>wheelbas</th>\n",
              "      <th>width</th>\n",
              "      <th>length</th>\n",
              "      <th>curb_wgt</th>\n",
              "      <th>fuel_cap</th>\n",
              "      <th>mpg</th>\n",
              "    </tr>\n",
              "  </thead>\n",
              "  <tbody>\n",
              "    <tr>\n",
              "      <th>0</th>\n",
              "      <td>1.8</td>\n",
              "      <td>101.2</td>\n",
              "      <td>67.3</td>\n",
              "      <td>172.4</td>\n",
              "      <td>2.639</td>\n",
              "      <td>13.2</td>\n",
              "      <td>28.0</td>\n",
              "    </tr>\n",
              "    <tr>\n",
              "      <th>1</th>\n",
              "      <td>3.2</td>\n",
              "      <td>108.1</td>\n",
              "      <td>70.3</td>\n",
              "      <td>192.9</td>\n",
              "      <td>3.517</td>\n",
              "      <td>17.2</td>\n",
              "      <td>25.0</td>\n",
              "    </tr>\n",
              "    <tr>\n",
              "      <th>2</th>\n",
              "      <td>3.5</td>\n",
              "      <td>114.6</td>\n",
              "      <td>71.4</td>\n",
              "      <td>196.6</td>\n",
              "      <td>3.850</td>\n",
              "      <td>18.0</td>\n",
              "      <td>22.0</td>\n",
              "    </tr>\n",
              "    <tr>\n",
              "      <th>3</th>\n",
              "      <td>1.8</td>\n",
              "      <td>102.6</td>\n",
              "      <td>68.2</td>\n",
              "      <td>178.0</td>\n",
              "      <td>2.998</td>\n",
              "      <td>16.4</td>\n",
              "      <td>27.0</td>\n",
              "    </tr>\n",
              "    <tr>\n",
              "      <th>4</th>\n",
              "      <td>2.8</td>\n",
              "      <td>108.7</td>\n",
              "      <td>76.1</td>\n",
              "      <td>192.0</td>\n",
              "      <td>3.561</td>\n",
              "      <td>18.5</td>\n",
              "      <td>22.0</td>\n",
              "    </tr>\n",
              "  </tbody>\n",
              "</table>\n",
              "</div>"
            ],
            "text/plain": [
              "   engine_s  wheelbas  width  length  curb_wgt  fuel_cap   mpg\n",
              "0       1.8     101.2   67.3   172.4     2.639      13.2  28.0\n",
              "1       3.2     108.1   70.3   192.9     3.517      17.2  25.0\n",
              "2       3.5     114.6   71.4   196.6     3.850      18.0  22.0\n",
              "3       1.8     102.6   68.2   178.0     2.998      16.4  27.0\n",
              "4       2.8     108.7   76.1   192.0     3.561      18.5  22.0"
            ]
          },
          "metadata": {},
          "execution_count": 8
        }
      ]
    },
    {
      "cell_type": "markdown",
      "metadata": {
        "id": "M6H-54eb7hPz"
      },
      "source": [
        "# Clustering usando SCIpy\n",
        "\n",
        "3. En esta parte usamos el paquete Scipy para agrupar el conjunto de datos:\n",
        "Primero, calculamos la matriz de distancias.\n",
        "\n",
        "Convertir a una matriz de distancias el dataset ``feature_set`` utilizando la funcion ``featureset.values`` y guardar el resultado en ``feature_mtx``\n",
        "\n"
      ]
    },
    {
      "cell_type": "code",
      "metadata": {
        "id": "B4MTgFimMoSa",
        "colab": {
          "base_uri": "https://localhost:8080/"
        },
        "outputId": "6f235d30-3d2c-4c4c-f8bf-079efe793ace"
      },
      "source": [
        "feature_mtx = featureset.to_numpy()\n",
        "feature_mtx"
      ],
      "execution_count": 10,
      "outputs": [
        {
          "output_type": "execute_result",
          "data": {
            "text/plain": [
              "array([[  1.8  , 101.2  ,  67.3  , 172.4  ,   2.639,  13.2  ,  28.   ],\n",
              "       [  3.2  , 108.1  ,  70.3  , 192.9  ,   3.517,  17.2  ,  25.   ],\n",
              "       [  3.5  , 114.6  ,  71.4  , 196.6  ,   3.85 ,  18.   ,  22.   ],\n",
              "       [  1.8  , 102.6  ,  68.2  , 178.   ,   2.998,  16.4  ,  27.   ],\n",
              "       [  2.8  , 108.7  ,  76.1  , 192.   ,   3.561,  18.5  ,  22.   ],\n",
              "       [  4.2  , 113.   ,  74.   , 198.2  ,   3.902,  23.7  ,  21.   ],\n",
              "       [  2.8  , 107.3  ,  68.5  , 176.   ,   3.197,  16.6  ,  24.   ],\n",
              "       [  2.8  , 111.4  ,  70.9  , 188.   ,   3.472,  18.5  ,  24.8  ],\n",
              "       [  3.1  , 109.   ,  72.7  , 194.6  ,   3.368,  17.5  ,  25.   ],\n",
              "       [  3.8  , 109.   ,  72.7  , 196.2  ,   3.543,  17.5  ,  23.   ],\n",
              "       [  3.8  , 113.8  ,  74.7  , 206.8  ,   3.778,  18.5  ,  24.   ],\n",
              "       [  3.8  , 112.2  ,  73.5  , 200.   ,   3.591,  17.5  ,  25.   ],\n",
              "       [  4.6  , 115.3  ,  74.5  , 207.2  ,   3.978,  18.5  ,  22.   ],\n",
              "       [  4.6  , 108.   ,  75.5  , 200.6  ,   3.843,  19.   ,  22.   ],\n",
              "       [  3.   , 107.4  ,  70.3  , 194.8  ,   3.77 ,  18.   ,  22.   ],\n",
              "       [  2.2  , 104.1  ,  67.9  , 180.9  ,   2.676,  14.3  ,  27.   ],\n",
              "       [  3.1  , 107.   ,  69.4  , 190.4  ,   3.051,  15.   ,  25.   ],\n",
              "       [  3.1  , 107.5  ,  72.5  , 200.9  ,   3.33 ,  16.6  ,  25.   ],\n",
              "       [  3.4  , 110.5  ,  72.7  , 197.9  ,   3.34 ,  17.   ,  27.   ],\n",
              "       [  3.8  , 101.1  ,  74.1  , 193.2  ,   3.5  ,  16.8  ,  25.   ],\n",
              "       [  5.7  , 104.5  ,  73.6  , 179.7  ,   3.21 ,  19.1  ,  22.   ],\n",
              "       [  1.8  ,  97.1  ,  66.7  , 174.3  ,   2.398,  13.2  ,  33.   ],\n",
              "       [  1.   ,  93.1  ,  62.6  , 149.4  ,   1.895,  10.3  ,  45.   ],\n",
              "       [  2.5  , 103.7  ,  69.7  , 190.9  ,   2.967,  15.9  ,  24.   ],\n",
              "       [  2.5  , 106.   ,  69.2  , 193.   ,   3.332,  16.   ,  24.   ],\n",
              "       [  2.7  , 113.   ,  74.4  , 209.1  ,   3.452,  17.   ,  26.   ],\n",
              "       [  2.   , 108.   ,  71.   , 186.   ,   2.911,  16.   ,  27.   ],\n",
              "       [  3.5  , 113.   ,  74.4  , 207.7  ,   3.564,  17.   ,  23.   ],\n",
              "       [  2.   , 105.   ,  74.4  , 174.4  ,   2.567,  12.5  ,  29.   ],\n",
              "       [  2.5  , 103.7  ,  69.1  , 190.2  ,   2.879,  15.9  ,  24.   ],\n",
              "       [  2.5  , 108.   ,  71.   , 186.   ,   3.058,  16.   ,  24.   ],\n",
              "       [  8.   ,  96.2  ,  75.7  , 176.7  ,   3.375,  19.   ,  16.   ],\n",
              "       [  5.2  , 138.7  ,  79.3  , 224.2  ,   4.47 ,  26.   ,  17.   ],\n",
              "       [  3.9  , 109.6  ,  78.8  , 192.6  ,   4.245,  32.   ,  15.   ],\n",
              "       [  3.9  , 127.2  ,  78.8  , 208.5  ,   4.298,  32.   ,  16.   ],\n",
              "       [  2.5  , 131.   ,  71.5  , 215.   ,   3.557,  22.   ,  19.   ],\n",
              "       [  2.4  , 113.3  ,  76.8  , 186.3  ,   3.533,  20.   ,  24.   ],\n",
              "       [  2.   ,  98.4  ,  67.   , 174.7  ,   2.468,  12.7  ,  30.   ],\n",
              "       [  3.8  , 101.3  ,  73.1  , 183.2  ,   3.203,  15.7  ,  24.   ],\n",
              "       [  2.5  , 106.5  ,  69.1  , 184.6  ,   2.769,  15.   ,  25.   ],\n",
              "       [  3.   , 108.5  ,  73.   , 197.6  ,   3.368,  16.   ,  24.   ],\n",
              "       [  4.6  , 114.7  ,  78.2  , 212.   ,   3.908,  19.   ,  21.   ],\n",
              "       [  4.   , 111.6  ,  70.2  , 190.7  ,   3.876,  21.   ,  19.   ],\n",
              "       [  3.   , 120.7  ,  76.6  , 200.9  ,   3.761,  26.   ,  21.   ],\n",
              "       [  4.6  , 119.   ,  78.7  , 204.6  ,   4.808,  26.   ,  16.   ],\n",
              "       [  2.5  , 117.5  ,  69.4  , 200.7  ,   3.086,  20.   ,  23.   ],\n",
              "       [  4.6  , 138.5  ,  79.1  , 224.5  ,   4.241,  25.1  ,  18.   ],\n",
              "       [  1.6  , 103.2  ,  67.1  , 175.1  ,   2.339,  11.9  ,  32.   ],\n",
              "       [  2.3  , 106.9  ,  70.3  , 188.8  ,   2.932,  17.1  ,  27.   ],\n",
              "       [  2.   , 103.2  ,  68.9  , 177.6  ,   3.219,  15.3  ,  24.   ],\n",
              "       [  3.2  , 106.4  ,  70.4  , 178.2  ,   3.857,  21.1  ,  19.   ],\n",
              "       [  3.5  , 118.1  ,  75.6  , 201.2  ,   4.288,  20.   ,  23.   ],\n",
              "       [  1.5  ,  96.1  ,  65.7  , 166.7  ,   2.24 ,  11.9  ,  31.   ],\n",
              "       [  2.   , 100.4  ,  66.9  , 174.   ,   2.626,  14.5  ,  27.   ],\n",
              "       [  2.4  , 106.3  ,  71.6  , 185.4  ,   3.072,  17.2  ,  25.   ],\n",
              "       [  3.   , 108.3  ,  70.2  , 193.7  ,   3.342,  18.5  ,  25.   ],\n",
              "       [  2.5  ,  93.4  ,  66.7  , 152.   ,   3.045,  19.   ,  17.   ],\n",
              "       [  4.   , 101.4  ,  69.4  , 167.5  ,   3.194,  20.   ,  20.   ],\n",
              "       [  4.   , 105.9  ,  72.3  , 181.5  ,   3.88 ,  20.5  ,  19.   ],\n",
              "       [  3.   , 105.1  ,  70.5  , 190.2  ,   3.373,  18.5  ,  23.   ],\n",
              "       [  3.   , 110.2  ,  70.9  , 189.2  ,   3.638,  19.8  ,  23.   ],\n",
              "       [  4.   , 112.2  ,  72.   , 196.7  ,   3.89 ,  22.5  ,  22.   ],\n",
              "       [  4.6  , 109.   ,  73.6  , 208.5  ,   3.868,  20.   ,  22.   ],\n",
              "       [  4.6  , 117.7  ,  78.2  , 215.3  ,   4.121,  19.   ,  21.   ],\n",
              "       [  1.8  ,  98.4  ,  66.5  , 173.6  ,   2.25 ,  13.2  ,  30.   ],\n",
              "       [  2.4  , 100.8  ,  68.9  , 175.4  ,   2.91 ,  15.9  ,  24.   ],\n",
              "       [  2.4  , 103.7  ,  68.5  , 187.8  ,   2.945,  16.3  ,  25.   ],\n",
              "       [  3.5  , 107.1  ,  70.3  , 194.1  ,   3.443,  19.   ,  22.   ],\n",
              "       [  3.   ,  97.2  ,  72.4  , 180.3  ,   3.131,  19.8  ,  21.   ],\n",
              "       [  3.5  , 107.3  ,  69.9  , 186.6  ,   4.52 ,  24.3  ,  18.   ],\n",
              "       [  3.   , 107.3  ,  66.7  , 178.3  ,   3.51 ,  19.5  ,  20.   ],\n",
              "       [  2.   , 106.5  ,  69.1  , 184.8  ,   2.769,  15.   ,  28.   ],\n",
              "       [  2.   , 106.4  ,  69.6  , 185.   ,   2.892,  16.   ,  30.   ],\n",
              "       [  3.   , 108.5  ,  73.   , 199.7  ,   3.379,  16.   ,  24.   ],\n",
              "       [  4.6  , 114.7  ,  78.2  , 212.   ,   3.958,  19.   ,  21.   ],\n",
              "       [  4.   , 111.6  ,  70.2  , 190.1  ,   3.876,  21.   ,  18.   ],\n",
              "       [  3.3  , 112.2  ,  74.9  , 194.7  ,   3.944,  20.   ,  21.   ],\n",
              "       [  2.3  , 105.9  ,  67.7  , 177.4  ,   3.25 ,  16.4  ,  26.   ],\n",
              "       [  3.2  , 111.5  ,  70.8  , 189.4  ,   3.823,  21.1  ,  25.   ],\n",
              "       [  4.3  , 121.5  ,  73.1  , 203.1  ,   4.133,  23.2  ,  21.   ],\n",
              "       [  5.   ,  99.   ,  71.3  , 177.1  ,   4.125,  21.1  ,  20.   ],\n",
              "       [  1.8  ,  99.8  ,  67.3  , 177.5  ,   2.593,  13.2  ,  30.   ],\n",
              "       [  2.4  , 103.1  ,  69.1  , 183.5  ,   3.012,  15.9  ,  25.   ],\n",
              "       [  3.   , 108.3  ,  70.3  , 190.5  ,   3.294,  18.5  ,  25.   ],\n",
              "       [  3.3  , 112.2  ,  74.9  , 194.8  ,   3.991,  20.   ,  21.   ],\n",
              "       [  3.3  , 106.3  ,  71.7  , 182.6  ,   3.947,  21.   ,  19.   ],\n",
              "       [  3.1  , 107.   ,  69.4  , 192.   ,   3.102,  15.2  ,  25.   ],\n",
              "       [  4.   , 113.8  ,  74.4  , 205.4  ,   3.967,  18.5  ,  22.   ],\n",
              "       [  4.3  , 107.   ,  67.8  , 181.2  ,   4.068,  17.5  ,  19.   ],\n",
              "       [  3.4  , 120.   ,  72.2  , 201.4  ,   3.948,  25.   ,  22.   ],\n",
              "       [  2.   , 105.   ,  74.4  , 174.4  ,   2.559,  12.5  ,  29.   ],\n",
              "       [  2.   , 108.   ,  71.   , 186.3  ,   2.942,  16.   ,  27.   ],\n",
              "       [  2.4  , 113.3  ,  76.8  , 186.3  ,   3.528,  20.   ,  24.   ],\n",
              "       [  2.4  , 104.1  ,  68.4  , 181.9  ,   2.906,  15.   ,  27.   ],\n",
              "       [  3.4  , 107.   ,  70.4  , 186.3  ,   3.091,  15.2  ,  25.   ],\n",
              "       [  3.8  , 101.1  ,  74.5  , 193.4  ,   3.492,  16.8  ,  25.   ],\n",
              "       [  3.8  , 110.5  ,  72.7  , 196.5  ,   3.396,  18.   ,  25.   ],\n",
              "       [  3.8  , 112.2  ,  72.6  , 202.5  ,   3.59 ,  17.5  ,  24.   ],\n",
              "       [  2.7  ,  95.2  ,  70.1  , 171.   ,   2.778,  17.   ,  22.   ],\n",
              "       [  3.4  ,  92.6  ,  69.5  , 174.5  ,   3.032,  17.   ,  21.   ],\n",
              "       [  3.4  ,  92.6  ,  69.5  , 174.5  ,   3.075,  17.   ,  23.   ],\n",
              "       [  1.9  , 102.4  ,  66.4  , 176.9  ,   2.332,  12.1  ,  33.   ],\n",
              "       [  1.9  , 102.4  ,  66.4  , 180.   ,   2.367,  12.1  ,  33.   ],\n",
              "       [  1.9  , 102.4  ,  66.4  , 176.9  ,   2.452,  12.1  ,  31.   ],\n",
              "       [  1.8  ,  97.   ,  66.7  , 174.   ,   2.42 ,  13.2  ,  33.   ],\n",
              "       [  2.2  , 105.2  ,  70.1  , 188.5  ,   2.998,  18.5  ,  27.   ],\n",
              "       [  3.   , 107.1  ,  71.7  , 191.9  ,   3.417,  18.5  ,  26.   ],\n",
              "       [  1.8  , 102.4  ,  68.3  , 170.5  ,   2.425,  14.5  ,  31.   ],\n",
              "       [  2.4  , 103.3  ,  66.5  , 178.7  ,   2.58 ,  15.1  ,  23.   ],\n",
              "       [  2.   ,  94.9  ,  66.7  , 163.8  ,   2.668,  15.3  ,  27.   ],\n",
              "       [  2.7  , 105.3  ,  66.5  , 183.3  ,   3.44 ,  18.5  ,  23.   ],\n",
              "       [  4.7  , 112.2  ,  76.4  , 192.5  ,   5.115,  25.4  ,  15.   ],\n",
              "       [  2.   ,  98.9  ,  68.3  , 163.3  ,   2.767,  14.5  ,  26.   ],\n",
              "       [  2.   ,  98.9  ,  68.3  , 172.3  ,   2.853,  14.5  ,  26.   ],\n",
              "       [  1.8  , 106.4  ,  68.5  , 184.1  ,   3.043,  16.4  ,  27.   ],\n",
              "       [  2.   ,  97.4  ,  66.7  , 160.4  ,   3.079,  13.7  ,  26.   ],\n",
              "       [  2.   ,  98.9  ,  68.3  , 163.3  ,   2.762,  14.6  ,  26.   ]])"
            ]
          },
          "metadata": {},
          "execution_count": 10
        }
      ]
    },
    {
      "cell_type": "markdown",
      "metadata": {
        "id": "qSjfqn6uMnwB"
      },
      "source": [
        "Con la matriz creada previamente ``feature_mtx`` correr el codigo de acontinuación (Esto consiste en encontrar una matriz de distancias entre individuos/automoviles). El resultado se guarda en una matriz D. \n",
        "\n",
        "**Nota** Si todo marcha en orden no deberia haber problemas con los siguientes dos segmentos de código"
      ]
    },
    {
      "cell_type": "code",
      "metadata": {
        "id": "uznUuF52erD9"
      },
      "source": [
        "from sklearn import preprocessing \n",
        "import scipy.cluster.hierarchy as sch\n",
        "from sklearn.cluster import AgglomerativeClustering\n",
        "import matplotlib.pyplot as plt"
      ],
      "execution_count": 18,
      "outputs": []
    },
    {
      "cell_type": "code",
      "metadata": {
        "id": "-jB96qrw7mWy",
        "colab": {
          "base_uri": "https://localhost:8080/"
        },
        "outputId": "4f472a3c-2fdb-4343-bba3-3c9090849384"
      },
      "source": [
        "import scipy\n",
        "leng = feature_mtx.shape[0]\n",
        "D = scipy.zeros([leng,leng])\n",
        "for i in range(leng):\n",
        "    for j in range(leng):\n",
        "        D[i,j] = scipy.spatial.distance.euclidean(feature_mtx[i], feature_mtx[j])"
      ],
      "execution_count": 19,
      "outputs": [
        {
          "output_type": "stream",
          "name": "stderr",
          "text": [
            "/usr/local/lib/python3.7/dist-packages/ipykernel_launcher.py:3: DeprecationWarning: scipy.zeros is deprecated and will be removed in SciPy 2.0.0, use numpy.zeros instead\n",
            "  This is separate from the ipykernel package so we can avoid doing imports until\n"
          ]
        }
      ]
    },
    {
      "cell_type": "code",
      "metadata": {
        "colab": {
          "base_uri": "https://localhost:8080/"
        },
        "id": "GA-noKhtrpV0",
        "outputId": "b073d99d-689c-4f8b-ef80-4d95ecd82a86"
      },
      "source": [
        "D"
      ],
      "execution_count": 32,
      "outputs": [
        {
          "output_type": "execute_result",
          "data": {
            "text/plain": [
              "array([[ 0.        , 22.4631005 , 29.07587524, ..., 13.2956089 ,\n",
              "        12.77824714,  9.75269855],\n",
              "       [22.4631005 ,  0.        ,  8.18479621, ...,  9.50761148,\n",
              "        34.62054078, 31.21810412],\n",
              "       [29.07587524,  8.18479621,  0.        , ..., 16.21731325,\n",
              "        40.81304254, 37.36286584],\n",
              "       ...,\n",
              "       [13.2956089 ,  9.50761148, 16.21731325, ...,  0.        ,\n",
              "        25.57853194, 22.21010943],\n",
              "       [12.77824714, 34.62054078, 40.81304254, ..., 25.57853194,\n",
              "         0.        ,  3.75905427],\n",
              "       [ 9.75269855, 31.21810412, 37.36286584, ..., 22.21010943,\n",
              "         3.75905427,  0.        ]])"
            ]
          },
          "metadata": {},
          "execution_count": 32
        }
      ]
    },
    {
      "cell_type": "markdown",
      "metadata": {
        "id": "9DDXs9nT7715"
      },
      "source": [
        "En la agrupación aglomerativa, en cada iteración, el algoritmo debe actualizar la matriz de distancia para reflejar la distancia del grupo recién formado con los grupos restantes en el bosque.\n",
        "\n",
        "Los siguientes métodos son compatibles con Scipy para calcular la distancia entre el grupo recién formado y cada uno:\n",
        "\n",
        "     - single\n",
        "     - complete\n",
        "     - average\n",
        "     - weighted\n",
        "     - centroid\n",
        "    \n",
        "4. Utilizaremos __complete__ para nuestro caso, pero en una proxima oportunidad siéntanse libres de cambiarlo para ver cómo cambian los resultados. Calcular el objeto Z por medio de la siguiente estructura de código:\n",
        "\n",
        "``import pylab``\n",
        "\n",
        "``import scipy.cluster.hierarchy``\n",
        "\n",
        "``z=scipy.cluster.hierachy.linkage(D,'complete')``\n",
        "\n"
      ]
    },
    {
      "cell_type": "code",
      "metadata": {
        "colab": {
          "base_uri": "https://localhost:8080/"
        },
        "id": "4MVmxGz7hHIN",
        "outputId": "c8776749-80c0-4d3d-e5b4-3642ae1d213e"
      },
      "source": [
        "import pylab\n",
        "import scipy.cluster\n",
        "Z = scipy.cluster.hierarchy.linkage(D, method='complete')"
      ],
      "execution_count": 41,
      "outputs": [
        {
          "output_type": "stream",
          "name": "stderr",
          "text": [
            "/usr/local/lib/python3.7/dist-packages/ipykernel_launcher.py:3: ClusterWarning: scipy.cluster: The symmetric non-negative hollow observation matrix looks suspiciously like an uncondensed distance matrix\n",
            "  This is separate from the ipykernel package so we can avoid doing imports until\n"
          ]
        }
      ]
    },
    {
      "cell_type": "markdown",
      "metadata": {
        "id": "nCcNQeLT8QqX"
      },
      "source": [
        "Esencialmente, la agrupación jerárquica no requiere un número predeterminado de agrupaciones. Sin embargo, en algunas aplicaciones queremos una partición de clústeres disjuntos como en un clúster plano.\n",
        "\n",
        "Entonces podemos usar una línea de corte:"
      ]
    },
    {
      "cell_type": "code",
      "metadata": {
        "colab": {
          "base_uri": "https://localhost:8080/"
        },
        "id": "A--9WDVT8VgW",
        "outputId": "70cba00f-8cbf-4585-952e-036dc017259b"
      },
      "source": [
        "from scipy.cluster.hierarchy import fcluster\n",
        "max_d = 3\n",
        "clusters = fcluster(Z, max_d, criterion='distance')\n",
        "clusters"
      ],
      "execution_count": 42,
      "outputs": [
        {
          "output_type": "execute_result",
          "data": {
            "text/plain": [
              "array([ 24,  88,  95,  15,  93,  46,  16,  83,  92,  97,  36,  44,  38,\n",
              "        45,  90,  59,  79,  42,  99,  74,  68,  29, 101,  77,  84,  39,\n",
              "        54,  37,  18,  78,  55,   9, 103,  48, 105, 106,  72,  27,  61,\n",
              "        52, 100, 107,  70,  33, 108,  31, 104,  19,  75,  12,  66,  32,\n",
              "         3,  26,  57,  89, 102,   8,  64,  80,  81,  96,  40, 109,  28,\n",
              "        17,  58,  91,  10,  73,  67,  50,  53,  43, 107,  71,  94,  14,\n",
              "        82,  34,  11,  21,  62,  86,  94,  65,  85,  41,  69,  35,  18,\n",
              "        54,  72,  60,  56,  74,  98,  47,   7,   5,   6,  20,  23,  22,\n",
              "        29,  76,  87,  30,  13,   2,  63,  49,   1,  25,  51,   4,   1],\n",
              "      dtype=int32)"
            ]
          },
          "metadata": {},
          "execution_count": 42
        }
      ]
    },
    {
      "cell_type": "code",
      "metadata": {
        "colab": {
          "base_uri": "https://localhost:8080/"
        },
        "id": "TivDWw-48YXq",
        "outputId": "26373311-ab13-4d00-d145-7163695c3533"
      },
      "source": [
        "# Determinar clusters\n",
        "from scipy.cluster.hierarchy import fcluster\n",
        "k = 5\n",
        "clusters = fcluster(Z, k, criterion='maxclust')\n",
        "clusters"
      ],
      "execution_count": 43,
      "outputs": [
        {
          "output_type": "execute_result",
          "data": {
            "text/plain": [
              "array([1, 2, 2, 1, 2, 2, 1, 2, 2, 2, 2, 2, 2, 2, 2, 2, 2, 2, 2, 2, 2, 1,\n",
              "       3, 2, 2, 2, 2, 2, 1, 2, 2, 1, 4, 2, 5, 5, 2, 1, 2, 2, 2, 5, 2, 2,\n",
              "       5, 2, 4, 1, 2, 1, 2, 2, 1, 1, 2, 2, 3, 1, 2, 2, 2, 2, 2, 5, 1, 1,\n",
              "       2, 2, 1, 2, 2, 2, 2, 2, 5, 2, 2, 1, 2, 2, 1, 1, 2, 2, 2, 2, 2, 2,\n",
              "       2, 2, 1, 2, 2, 2, 2, 2, 2, 2, 1, 1, 1, 1, 1, 1, 1, 2, 2, 1, 1, 1,\n",
              "       2, 2, 1, 1, 2, 1, 1], dtype=int32)"
            ]
          },
          "metadata": {},
          "execution_count": 43
        }
      ]
    },
    {
      "cell_type": "markdown",
      "metadata": {
        "id": "uWHVG65c8dKS"
      },
      "source": [
        "# Dendrograma\n",
        "\n",
        "5. Utilizar el objeto ``Z`` creado previamente en la funcion ``scipy.cluster.hierarchy.dendrogram`` para obtener el dendrograma para ello pueden utilizar de ayuda el siguiente código:\n",
        "`"
      ]
    },
    {
      "cell_type": "code",
      "metadata": {
        "id": "DWVPXSbDOtB3",
        "colab": {
          "base_uri": "https://localhost:8080/",
          "height": 33
        },
        "outputId": "b3320c21-dc48-4fd2-af92-e81113fcd1c2"
      },
      "source": [
        "fig = pylab.figure(figsize=(18,50))\n",
        "def llf(id):\n",
        "    return '[%s %s %s]' % (pdf['manufact'][id], pdf['model'][id], int(float(pdf['type'][id])) )"
      ],
      "execution_count": 44,
      "outputs": [
        {
          "output_type": "display_data",
          "data": {
            "text/plain": [
              "<Figure size 1296x3600 with 0 Axes>"
            ]
          },
          "metadata": {}
        }
      ]
    },
    {
      "cell_type": "markdown",
      "metadata": {
        "id": "-XWdJ7UQ8szN"
      },
      "source": [
        "# Usando scikit learn\n",
        "\n",
        "Ahora obtenemos la matriz de distancias usando scikit learn"
      ]
    },
    {
      "cell_type": "code",
      "metadata": {
        "colab": {
          "base_uri": "https://localhost:8080/"
        },
        "id": "pI1mVbgQ8uf6",
        "outputId": "9325f3d5-1f26-4df0-f92e-4b0bbde73093"
      },
      "source": [
        "from scipy.spatial import distance_matrix \n",
        "\n",
        "dist_matrix = distance_matrix(feature_mtx,feature_mtx) \n",
        "print(dist_matrix)"
      ],
      "execution_count": null,
      "outputs": [
        {
          "output_type": "stream",
          "text": [
            "[[  0.          87.9180919   75.79845989 ...  16.63650252  28.07638866\n",
            "   26.83496095]\n",
            " [ 87.9180919    0.          17.0877409  ...  75.60022934 115.3194773\n",
            "  114.3440861 ]\n",
            " [ 75.79845989  17.0877409    0.         ...  62.15304698 103.39586278\n",
            "  102.0832197 ]\n",
            " ...\n",
            " [ 16.63650252  75.60022934  62.15304698 ...   0.          43.35044747\n",
            "   41.45224917]\n",
            " [ 28.07638866 115.3194773  103.39586278 ...  43.35044747   0.\n",
            "    3.75905427]\n",
            " [ 26.83496095 114.3440861  102.0832197  ...  41.45224917   3.75905427\n",
            "    0.        ]]\n"
          ],
          "name": "stdout"
        }
      ]
    },
    {
      "cell_type": "markdown",
      "metadata": {
        "id": "CE3aqptS8_jy"
      },
      "source": [
        "6. Utilizar el metodo ``AgglomerativeClustering`` visto en clase con ``n_clusters`` el número apropiado que consideren según en dendograma creado previamente y con propiedad ``linkage='complete'``. Guardar el modelo con el nombre``agglom``. Ajustar el modelo a los datos ``feature_mtx`` y obtener las predicciones con la funcion ``agglom.labels_``"
      ]
    },
    {
      "cell_type": "code",
      "metadata": {
        "id": "nuaYw-qfPQch"
      },
      "source": [
        ""
      ],
      "execution_count": null,
      "outputs": []
    },
    {
      "cell_type": "markdown",
      "metadata": {
        "id": "PJ5MhXRCPQpz"
      },
      "source": [
        "7. Crear una columna en el dataset pdf que se llame ``cluster_`` con base en los labels obtenidos con ``agglom.labels_''"
      ]
    },
    {
      "cell_type": "code",
      "metadata": {
        "id": "997If2qtPa49"
      },
      "source": [
        ""
      ],
      "execution_count": null,
      "outputs": []
    },
    {
      "cell_type": "markdown",
      "metadata": {
        "id": "7SlnHlI5PegW"
      },
      "source": [
        "8. Utilizar el siguiente codigo (Primero deben entenderlo) para crear una grafica de dispersion entre ``mpg`` y ``horsepow`` donde se proyecta como tercera variable el ``price``. Con base en esta grafica obtener una descripcion de cada cluster."
      ]
    },
    {
      "cell_type": "code",
      "metadata": {
        "id": "dKYCXqsU9FHO"
      },
      "source": [
        "import matplotlib.cm as cm\n",
        "n_clusters = max(agglom.labels_)+1\n",
        "colors = cm.rainbow(np.linspace(0, 1, n_clusters))\n",
        "cluster_labels = list(range(0, n_clusters))\n",
        "\n",
        "# Figura de tamaño 16 inches por 14 inches.\n",
        "plt.figure(figsize=(16,14))\n",
        "\n",
        "for color, label in zip(colors, cluster_labels):\n",
        "    subset = pdf[pdf.cluster_ == label]\n",
        "    for i in subset.index:\n",
        "            plt.text(subset.horsepow[i], subset.mpg[i],str(subset['model'][i]), rotation=25) \n",
        "    plt.scatter(subset.horsepow, subset.mpg, s= subset.price*10, c=color, label='cluster'+str(label),alpha=0.5)\n",
        "#    plt.scatter(subset.horsepow, subset.mpg)\n",
        "plt.legend()\n",
        "plt.title('Clusters')\n",
        "plt.xlabel('horsepow')\n",
        "plt.ylabel('mpg')"
      ],
      "execution_count": null,
      "outputs": []
    },
    {
      "cell_type": "markdown",
      "metadata": {
        "id": "j6HQFoekP38m"
      },
      "source": [
        "**Respuesta**\n",
        "\n",
        "\n"
      ]
    },
    {
      "cell_type": "markdown",
      "metadata": {
        "id": "Cmua4L9aQH-1"
      },
      "source": [
        ""
      ]
    },
    {
      "cell_type": "markdown",
      "metadata": {
        "id": "1vWDN34WQQeA"
      },
      "source": [
        "9. Obtener un conteo para cada cluster y analizar si las estructuras son balanceadas? Porque?"
      ]
    },
    {
      "cell_type": "code",
      "metadata": {
        "id": "hYVMwLhsVj2f"
      },
      "source": [
        ""
      ],
      "execution_count": null,
      "outputs": []
    }
  ]
}